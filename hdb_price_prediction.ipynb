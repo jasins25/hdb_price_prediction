{
 "cells": [
  {
   "cell_type": "markdown",
   "metadata": {},
   "source": [
    "<h3>Load the Data</h3>"
   ]
  },
  {
   "cell_type": "code",
   "execution_count": 36,
   "metadata": {},
   "outputs": [],
   "source": [
    "import numpy as np\n",
    "import pandas as pd\n",
    "import tensorflow as tf\n",
    "from tensorflow.keras import models\n",
    "from tensorflow.keras import layers\n",
    "from tensorflow.keras import optimizers\n"
   ]
  },
  {
   "cell_type": "code",
   "execution_count": 46,
   "metadata": {},
   "outputs": [],
   "source": [
    "from sklearn.model_selection import train_test_split"
   ]
  },
  {
   "cell_type": "code",
   "execution_count": 2,
   "metadata": {},
   "outputs": [],
   "source": []
  },
  {
   "cell_type": "code",
   "execution_count": 12,
   "metadata": {},
   "outputs": [
    {
     "data": {
      "text/plain": [
       "array(['2017-01', 'ANG MO KIO', '2 ROOM', '406', 'ANG MO KIO AVE 10',\n",
       "       '10 TO 12', 44.0, 'Improved', 1979, '61 years 04 months', 232000.0],\n",
       "      dtype=object)"
      ]
     },
     "execution_count": 12,
     "metadata": {},
     "output_type": "execute_result"
    }
   ],
   "source": [
    "data = pd.read_csv('resale-flat-prices/resale-flat-prices-based-on-registration-date-from-jan-2017-onwards.csv', \\\n",
    "                   thousands=',')\n",
    "\n",
    "data.values[0]"
   ]
  },
  {
   "cell_type": "code",
   "execution_count": 13,
   "metadata": {},
   "outputs": [
    {
     "name": "stdout",
     "output_type": "stream",
     "text": [
      "<class 'pandas.core.frame.DataFrame'>\n",
      "RangeIndex: 58154 entries, 0 to 58153\n",
      "Data columns (total 11 columns):\n",
      "month                  58154 non-null object\n",
      "town                   58154 non-null object\n",
      "flat_type              58154 non-null object\n",
      "block                  58154 non-null object\n",
      "street_name            58154 non-null object\n",
      "storey_range           58154 non-null object\n",
      "floor_area_sqm         58154 non-null float64\n",
      "flat_model             58154 non-null object\n",
      "lease_commence_date    58154 non-null int64\n",
      "remaining_lease        58154 non-null object\n",
      "resale_price           58154 non-null float64\n",
      "dtypes: float64(2), int64(1), object(8)\n",
      "memory usage: 4.9+ MB\n"
     ]
    }
   ],
   "source": [
    "data['town'].unique().shape[0]\n",
    "#data.shape\n",
    "data.info()"
   ]
  },
  {
   "cell_type": "code",
   "execution_count": 14,
   "metadata": {},
   "outputs": [],
   "source": [
    "month_unix = pd.to_datetime(data['month'], format='%Y-%m').astype(int) / 10**9\n",
    "\n",
    "town = data['town']\n",
    "town_one_hot = pd.get_dummies(town,prefix='town')\n",
    "\n",
    "flat_type = data['flat_type']\n",
    "flat_type_one_hot = pd.get_dummies(flat_type,prefix='flat_type')\n",
    "\n",
    "\n",
    "storey_range_one_hot = pd.get_dummies(data['storey_range'],prefix='storey_range')\n",
    "\n",
    "#floor_area_sqm_one_hot = pd.get_dummies(data['floor_area_sqm'],prefix='floor_area_sqm')\n",
    "\n",
    "flat_model_one_hot = pd.get_dummies(data['flat_model'], prefix='flat_model')\n"
   ]
  },
  {
   "cell_type": "code",
   "execution_count": 41,
   "metadata": {},
   "outputs": [
    {
     "name": "stdout",
     "output_type": "stream",
     "text": [
      "0        61\n",
      "1        60\n",
      "2        62\n",
      "3        62\n",
      "4        62\n",
      "         ..\n",
      "58149    67\n",
      "58150    71\n",
      "58151    71\n",
      "58152    65\n",
      "58153    67\n",
      "Name: remaining_lease, Length: 58154, dtype: int64\n"
     ]
    }
   ],
   "source": [
    "remaining_lease_yrs =  data.remaining_lease.str.slice(0, 2).astype(int)\n",
    "print(remaining_lease_yrs)"
   ]
  },
  {
   "cell_type": "code",
   "execution_count": 42,
   "metadata": {},
   "outputs": [],
   "source": [
    "oh1 = pd.concat([month_unix,town_one_hot],axis=1,sort=False)\n",
    "oh2 = pd.concat([oh1,flat_type_one_hot],axis=1,sort=False)\n",
    "oh3 = pd.concat([oh2,storey_range_one_hot],axis=1,sort=False)\n",
    "oh4 = pd.concat([oh3,data['floor_area_sqm']],axis=1,sort=False)\n",
    "oh5 = pd.concat([oh4,flat_model_one_hot],axis=1,sort=False)\n",
    "oh = pd.concat([oh5, remaining_lease_yrs], axis=1, sort=False)"
   ]
  },
  {
   "cell_type": "code",
   "execution_count": 24,
   "metadata": {},
   "outputs": [
    {
     "name": "stdout",
     "output_type": "stream",
     "text": [
      "<class 'pandas.core.frame.DataFrame'>\n",
      "RangeIndex: 58154 entries, 0 to 58153\n",
      "Data columns (total 72 columns):\n",
      "month                                58154 non-null float64\n",
      "town_ANG MO KIO                      58154 non-null uint8\n",
      "town_BEDOK                           58154 non-null uint8\n",
      "town_BISHAN                          58154 non-null uint8\n",
      "town_BUKIT BATOK                     58154 non-null uint8\n",
      "town_BUKIT MERAH                     58154 non-null uint8\n",
      "town_BUKIT PANJANG                   58154 non-null uint8\n",
      "town_BUKIT TIMAH                     58154 non-null uint8\n",
      "town_CENTRAL AREA                    58154 non-null uint8\n",
      "town_CHOA CHU KANG                   58154 non-null uint8\n",
      "town_CLEMENTI                        58154 non-null uint8\n",
      "town_GEYLANG                         58154 non-null uint8\n",
      "town_HOUGANG                         58154 non-null uint8\n",
      "town_JURONG EAST                     58154 non-null uint8\n",
      "town_JURONG WEST                     58154 non-null uint8\n",
      "town_KALLANG/WHAMPOA                 58154 non-null uint8\n",
      "town_MARINE PARADE                   58154 non-null uint8\n",
      "town_PASIR RIS                       58154 non-null uint8\n",
      "town_PUNGGOL                         58154 non-null uint8\n",
      "town_QUEENSTOWN                      58154 non-null uint8\n",
      "town_SEMBAWANG                       58154 non-null uint8\n",
      "town_SENGKANG                        58154 non-null uint8\n",
      "town_SERANGOON                       58154 non-null uint8\n",
      "town_TAMPINES                        58154 non-null uint8\n",
      "town_TOA PAYOH                       58154 non-null uint8\n",
      "town_WOODLANDS                       58154 non-null uint8\n",
      "town_YISHUN                          58154 non-null uint8\n",
      "flat_type_1 ROOM                     58154 non-null uint8\n",
      "flat_type_2 ROOM                     58154 non-null uint8\n",
      "flat_type_3 ROOM                     58154 non-null uint8\n",
      "flat_type_4 ROOM                     58154 non-null uint8\n",
      "flat_type_5 ROOM                     58154 non-null uint8\n",
      "flat_type_EXECUTIVE                  58154 non-null uint8\n",
      "flat_type_MULTI-GENERATION           58154 non-null uint8\n",
      "storey_range_01 TO 03                58154 non-null uint8\n",
      "storey_range_04 TO 06                58154 non-null uint8\n",
      "storey_range_07 TO 09                58154 non-null uint8\n",
      "storey_range_10 TO 12                58154 non-null uint8\n",
      "storey_range_13 TO 15                58154 non-null uint8\n",
      "storey_range_16 TO 18                58154 non-null uint8\n",
      "storey_range_19 TO 21                58154 non-null uint8\n",
      "storey_range_22 TO 24                58154 non-null uint8\n",
      "storey_range_25 TO 27                58154 non-null uint8\n",
      "storey_range_28 TO 30                58154 non-null uint8\n",
      "storey_range_31 TO 33                58154 non-null uint8\n",
      "storey_range_34 TO 36                58154 non-null uint8\n",
      "storey_range_37 TO 39                58154 non-null uint8\n",
      "storey_range_40 TO 42                58154 non-null uint8\n",
      "storey_range_43 TO 45                58154 non-null uint8\n",
      "storey_range_46 TO 48                58154 non-null uint8\n",
      "storey_range_49 TO 51                58154 non-null uint8\n",
      "floor_area_sqm                       58154 non-null float64\n",
      "flat_model_Adjoined flat             58154 non-null uint8\n",
      "flat_model_Apartment                 58154 non-null uint8\n",
      "flat_model_DBSS                      58154 non-null uint8\n",
      "flat_model_Improved                  58154 non-null uint8\n",
      "flat_model_Improved-Maisonette       58154 non-null uint8\n",
      "flat_model_Maisonette                58154 non-null uint8\n",
      "flat_model_Model A                   58154 non-null uint8\n",
      "flat_model_Model A-Maisonette        58154 non-null uint8\n",
      "flat_model_Model A2                  58154 non-null uint8\n",
      "flat_model_Multi Generation          58154 non-null uint8\n",
      "flat_model_New Generation            58154 non-null uint8\n",
      "flat_model_Premium Apartment         58154 non-null uint8\n",
      "flat_model_Premium Apartment Loft    58154 non-null uint8\n",
      "flat_model_Premium Maisonette        58154 non-null uint8\n",
      "flat_model_Simplified                58154 non-null uint8\n",
      "flat_model_Standard                  58154 non-null uint8\n",
      "flat_model_Terrace                   58154 non-null uint8\n",
      "flat_model_Type S1                   58154 non-null uint8\n",
      "flat_model_Type S2                   58154 non-null uint8\n",
      "lease_commence_date                  58154 non-null int64\n",
      "dtypes: float64(2), int64(1), uint8(69)\n",
      "memory usage: 5.2 MB\n"
     ]
    },
    {
     "data": {
      "text/plain": [
       "0        59\n",
       "1        58\n",
       "2        60\n",
       "3        60\n",
       "4        60\n",
       "         ..\n",
       "58149    68\n",
       "58150    72\n",
       "58151    72\n",
       "58152    66\n",
       "58153    68\n",
       "Name: lease_commence_date, Length: 58154, dtype: int64"
      ]
     },
     "execution_count": 24,
     "metadata": {},
     "output_type": "execute_result"
    }
   ],
   "source": [
    "oh.values[0]\n",
    "oh.info()\n",
    "oh['lease_commence_date']"
   ]
  },
  {
   "cell_type": "code",
   "execution_count": 58,
   "metadata": {},
   "outputs": [
    {
     "data": {
      "text/plain": [
       "19"
      ]
     },
     "execution_count": 58,
     "metadata": {},
     "output_type": "execute_result"
    }
   ],
   "source": [
    "data['town'].unique().size\n",
    "data['flat_type'].unique().size\n",
    "data['storey_range'].unique().size\n",
    "data['flat_model'].unique().size\n",
    "\n",
    "\n"
   ]
  },
  {
   "cell_type": "code",
   "execution_count": 53,
   "metadata": {},
   "outputs": [
    {
     "data": {
      "text/html": [
       "<div>\n",
       "<style scoped>\n",
       "    .dataframe tbody tr th:only-of-type {\n",
       "        vertical-align: middle;\n",
       "    }\n",
       "\n",
       "    .dataframe tbody tr th {\n",
       "        vertical-align: top;\n",
       "    }\n",
       "\n",
       "    .dataframe thead th {\n",
       "        text-align: right;\n",
       "    }\n",
       "</style>\n",
       "<table border=\"1\" class=\"dataframe\">\n",
       "  <thead>\n",
       "    <tr style=\"text-align: right;\">\n",
       "      <th></th>\n",
       "      <th>month</th>\n",
       "      <th>town_ANG MO KIO</th>\n",
       "      <th>town_BEDOK</th>\n",
       "      <th>town_BISHAN</th>\n",
       "      <th>town_BUKIT BATOK</th>\n",
       "      <th>town_BUKIT MERAH</th>\n",
       "      <th>town_BUKIT PANJANG</th>\n",
       "      <th>town_BUKIT TIMAH</th>\n",
       "      <th>town_CENTRAL AREA</th>\n",
       "      <th>town_CHOA CHU KANG</th>\n",
       "      <th>...</th>\n",
       "      <th>flat_model_New Generation</th>\n",
       "      <th>flat_model_Premium Apartment</th>\n",
       "      <th>flat_model_Premium Apartment Loft</th>\n",
       "      <th>flat_model_Premium Maisonette</th>\n",
       "      <th>flat_model_Simplified</th>\n",
       "      <th>flat_model_Standard</th>\n",
       "      <th>flat_model_Terrace</th>\n",
       "      <th>flat_model_Type S1</th>\n",
       "      <th>flat_model_Type S2</th>\n",
       "      <th>remaining_lease</th>\n",
       "    </tr>\n",
       "  </thead>\n",
       "  <tbody>\n",
       "    <tr>\n",
       "      <th>0</th>\n",
       "      <td>1.483229e+09</td>\n",
       "      <td>1</td>\n",
       "      <td>0</td>\n",
       "      <td>0</td>\n",
       "      <td>0</td>\n",
       "      <td>0</td>\n",
       "      <td>0</td>\n",
       "      <td>0</td>\n",
       "      <td>0</td>\n",
       "      <td>0</td>\n",
       "      <td>...</td>\n",
       "      <td>0</td>\n",
       "      <td>0</td>\n",
       "      <td>0</td>\n",
       "      <td>0</td>\n",
       "      <td>0</td>\n",
       "      <td>0</td>\n",
       "      <td>0</td>\n",
       "      <td>0</td>\n",
       "      <td>0</td>\n",
       "      <td>61</td>\n",
       "    </tr>\n",
       "  </tbody>\n",
       "</table>\n",
       "<p>1 rows × 72 columns</p>\n",
       "</div>"
      ],
      "text/plain": [
       "          month  town_ANG MO KIO  town_BEDOK  town_BISHAN  town_BUKIT BATOK  \\\n",
       "0  1.483229e+09                1           0            0                 0   \n",
       "\n",
       "   town_BUKIT MERAH  town_BUKIT PANJANG  town_BUKIT TIMAH  town_CENTRAL AREA  \\\n",
       "0                 0                   0                 0                  0   \n",
       "\n",
       "   town_CHOA CHU KANG  ...  flat_model_New Generation  \\\n",
       "0                   0  ...                          0   \n",
       "\n",
       "   flat_model_Premium Apartment  flat_model_Premium Apartment Loft  \\\n",
       "0                             0                                  0   \n",
       "\n",
       "   flat_model_Premium Maisonette  flat_model_Simplified  flat_model_Standard  \\\n",
       "0                              0                      0                    0   \n",
       "\n",
       "   flat_model_Terrace  flat_model_Type S1  flat_model_Type S2  remaining_lease  \n",
       "0                   0                   0                   0               61  \n",
       "\n",
       "[1 rows x 72 columns]"
      ]
     },
     "execution_count": 53,
     "metadata": {},
     "output_type": "execute_result"
    }
   ],
   "source": [
    "oh.head(1)"
   ]
  },
  {
   "cell_type": "code",
   "execution_count": 33,
   "metadata": {},
   "outputs": [
    {
     "data": {
      "text/plain": [
       "44.0"
      ]
     },
     "execution_count": 33,
     "metadata": {},
     "output_type": "execute_result"
    }
   ],
   "source": [
    "oh['floor_area_sqm'][0]"
   ]
  },
  {
   "cell_type": "code",
   "execution_count": 44,
   "metadata": {},
   "outputs": [
    {
     "name": "stdout",
     "output_type": "stream",
     "text": [
      "[[1.4832288e+09 1.0000000e+00 0.0000000e+00 ... 0.0000000e+00\n",
      "  0.0000000e+00 6.1000000e+01]\n",
      " [1.4832288e+09 1.0000000e+00 0.0000000e+00 ... 0.0000000e+00\n",
      "  0.0000000e+00 6.0000000e+01]\n",
      " [1.4832288e+09 1.0000000e+00 0.0000000e+00 ... 0.0000000e+00\n",
      "  0.0000000e+00 6.2000000e+01]\n",
      " ...\n",
      " [1.5672960e+09 0.0000000e+00 0.0000000e+00 ... 0.0000000e+00\n",
      "  0.0000000e+00 7.1000000e+01]\n",
      " [1.5672960e+09 0.0000000e+00 0.0000000e+00 ... 0.0000000e+00\n",
      "  0.0000000e+00 6.5000000e+01]\n",
      " [1.5672960e+09 0.0000000e+00 0.0000000e+00 ... 0.0000000e+00\n",
      "  0.0000000e+00 6.7000000e+01]]\n",
      "[232000. 250000. 262000. ... 745000. 605000. 640000.]\n"
     ]
    }
   ],
   "source": [
    "train_x = oh.values\n",
    "train_y = data['resale_price'].values\n",
    "print(train_x)\n",
    "print(train_y)"
   ]
  },
  {
   "cell_type": "code",
   "execution_count": 50,
   "metadata": {},
   "outputs": [],
   "source": [
    "train_x, test_x, train_y, test_y = train_test_split(oh.values, data['resale_price'].values, test_size = 0.2, random_state = 0)\n",
    "\n"
   ]
  },
  {
   "cell_type": "code",
   "execution_count": 51,
   "metadata": {},
   "outputs": [
    {
     "name": "stdout",
     "output_type": "stream",
     "text": [
      "train_x:  (46523, 72)\n",
      "test_x:  (11631, 72)\n",
      "train_y:  (46523,)\n",
      "test_y:  (11631,)\n"
     ]
    }
   ],
   "source": [
    "print(\"train_x: \",train_x.shape)\n",
    "print(\"test_x: \",test_x.shape)\n",
    "print(\"train_y: \",train_y.shape)\n",
    "print(\"test_y: \",test_y.shape)"
   ]
  },
  {
   "cell_type": "code",
   "execution_count": 65,
   "metadata": {},
   "outputs": [],
   "source": [
    "model = models.Sequential()\n",
    "model.add(layers.Dense(16, activation='relu', input_shape=(72,)))\n",
    "model.add(layers.Dense(16, activation='relu'))\n",
    "model.add(layers.Dense(1))"
   ]
  },
  {
   "cell_type": "code",
   "execution_count": 66,
   "metadata": {},
   "outputs": [],
   "source": [
    "model.compile(optimizer='rmsprop', loss='mse', metrics=['mae'])"
   ]
  },
  {
   "cell_type": "code",
   "execution_count": 67,
   "metadata": {},
   "outputs": [
    {
     "name": "stdout",
     "output_type": "stream",
     "text": [
      "Train on 37218 samples, validate on 9305 samples\n",
      "Epoch 1/10\n",
      "37218/37218 [==============================] - 3s 70us/sample - loss: 13492848934648.7500 - mean_absolute_error: 2211844.2500 - val_loss: 3115748060444.9150 - val_mean_absolute_error: 1757805.8750\n",
      "Epoch 2/10\n",
      "37218/37218 [==============================] - 2s 57us/sample - loss: 1808104707042.8906 - mean_absolute_error: 1303679.3750 - val_loss: 29571268912.6139 - val_mean_absolute_error: 147399.0469\n",
      "Epoch 3/10\n",
      "37218/37218 [==============================] - 2s 57us/sample - loss: 324402859076.2886 - mean_absolute_error: 487470.7812 - val_loss: 59819241907.7915 - val_mean_absolute_error: 191151.9375\n",
      "Epoch 4/10\n",
      "37218/37218 [==============================] - 2s 58us/sample - loss: 35555880671.7679 - mean_absolute_error: 140819.1719 - val_loss: 46591321194.4168 - val_mean_absolute_error: 159322.8594\n",
      "Epoch 5/10\n",
      "37218/37218 [==============================] - 2s 59us/sample - loss: 27202446778.3632 - mean_absolute_error: 126499.7812 - val_loss: 29424961830.9296 - val_mean_absolute_error: 146902.9688\n",
      "Epoch 6/10\n",
      "37218/37218 [==============================] - 2s 65us/sample - loss: 27241422430.6742 - mean_absolute_error: 126889.9375 - val_loss: 83985264524.2291 - val_mean_absolute_error: 264011.4375\n",
      "Epoch 7/10\n",
      "37218/37218 [==============================] - 2s 60us/sample - loss: 27266600473.4363 - mean_absolute_error: 126757.1328 - val_loss: 24794175709.6374 - val_mean_absolute_error: 116780.8750\n",
      "Epoch 8/10\n",
      "37218/37218 [==============================] - 2s 60us/sample - loss: 27236773035.1894 - mean_absolute_error: 126881.2188 - val_loss: 24610543350.1232 - val_mean_absolute_error: 117144.5234\n",
      "Epoch 9/10\n",
      "37218/37218 [==============================] - 2s 66us/sample - loss: 27301226183.1432 - mean_absolute_error: 126853.3438 - val_loss: 45951001561.1529 - val_mean_absolute_error: 157767.3438\n",
      "Epoch 10/10\n",
      "37218/37218 [==============================] - 2s 57us/sample - loss: 27149315323.3089 - mean_absolute_error: 126317.8516 - val_loss: 46924614511.2864 - val_mean_absolute_error: 160135.2188\n"
     ]
    }
   ],
   "source": [
    "EPOCHS = 10\n",
    "history = model.fit(train_x, train_y, validation_split=0.2, epochs=EPOCHS, shuffle=True)"
   ]
  },
  {
   "cell_type": "code",
   "execution_count": 68,
   "metadata": {},
   "outputs": [
    {
     "name": "stdout",
     "output_type": "stream",
     "text": [
      "{'loss': [13492848934648.75, 1808104707042.8906, 324402859076.2887, 35555880671.76785, 27202446778.36316, 27241422430.67419, 27266600473.436295, 27236773035.189423, 27301226183.14321, 27149315323.308937], 'mean_absolute_error': [2211844.2, 1303679.4, 487470.78, 140819.17, 126499.78, 126889.94, 126757.13, 126881.22, 126853.34, 126317.85], 'val_loss': [3115748060444.915, 29571268912.613865, 59819241907.79151, 46591321194.41676, 29424961830.929607, 83985264524.22913, 24794175709.637398, 24610543350.12316, 45951001561.15293, 46924614511.28641], 'val_mean_absolute_error': [1757805.9, 147399.05, 191151.94, 159322.86, 146902.97, 264011.44, 116780.875, 117144.52, 157767.34, 160135.22]}\n"
     ]
    }
   ],
   "source": [
    "#Print the training history \n",
    "print(history.history)"
   ]
  },
  {
   "cell_type": "code",
   "execution_count": 71,
   "metadata": {},
   "outputs": [
    {
     "data": {
      "image/png": "[encoded data removed]",
      "text/plain": [
       "<Figure size 1080x360 with 2 Axes>"
      ]
     },
     "metadata": {
      "needs_background": "light"
     },
     "output_type": "display_data"
    }
   ],
   "source": [
    "import matplotlib.pyplot as plt\n",
    "history_dict = history.history\n",
    " \n",
    "fig, (p1, p2) = plt.subplots(1, 2, figsize=(15,5))\n",
    " \n",
    "x = range(1, EPOCHS+1)\n",
    " \n",
    "p1.plot(x, history_dict['loss'], 'r', label='Training Loss')\n",
    "p1.plot(x, history_dict['val_loss'], 'b', label='Validation Loss')\n",
    "p1.set_title('Training and Validation Loss')\n",
    "p1.set_xlabel('Epochs')\n",
    "p1.set_ylabel('Loss')\n",
    "p1.legend()\n",
    " \n",
    "p2.plot(x, history_dict['mean_absolute_error'], 'r', label='Training Acc')\n",
    "p2.plot(x, history_dict['val_mean_absolute_error'], 'b', label='Validation Acc')\n",
    "p2.set_title('Training and Validation Accuracy')\n",
    "p2.set_xlabel('Epochs')\n",
    "p2.set_ylabel('Mean Absolute Error')\n",
    "p2.legend()\n",
    " \n",
    "plt.show()"
   ]
  },
  {
   "cell_type": "code",
   "execution_count": null,
   "metadata": {},
   "outputs": [],
   "source": []
  }
 ],
 "metadata": {
  "kernelspec": {
   "display_name": "Python 3",
   "language": "python",
   "name": "python3"
  },
  "language_info": {
   "codemirror_mode": {
    "name": "ipython",
    "version": 3
   },
   "file_extension": ".py",
   "mimetype": "text/x-python",
   "name": "python",
   "nbconvert_exporter": "python",
   "pygments_lexer": "ipython3",
   "version": "3.7.5"
  }
 },
 "nbformat": 4,
 "nbformat_minor": 2
}
