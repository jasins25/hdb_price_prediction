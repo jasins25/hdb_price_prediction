{
  "nbformat": 4,
  "nbformat_minor": 0,
  "metadata": {
    "kernelspec": {
      "display_name": "Python 3",
      "language": "python",
      "name": "python3"
    },
    "language_info": {
      "codemirror_mode": {
        "name": "ipython",
        "version": 3
      },
      "file_extension": ".py",
      "mimetype": "text/x-python",
      "name": "python",
      "nbconvert_exporter": "python",
      "pygments_lexer": "ipython3",
      "version": "3.7.5"
    },
    "colab": {
      "name": "19B684C-ITI106_Assignment.ipynb",
      "provenance": []
    }
  },
  "cells": [
    {
      "cell_type": "markdown",
      "metadata": {
        "id": "MZR6sI0K9BFB",
        "colab_type": "text"
      },
      "source": [
        "# Introduction\n",
        "\n",
        "In this notebook, **HDB housing price dataset**, provided by the Singapore goverment data webpage is used to do **HDB price prediction** using **Regression** with a fully-connected Feedforward neural network (sequential model).\n"
      ]
    },
    {
      "cell_type": "code",
      "metadata": {
        "id": "magOrZxO9BFD",
        "colab_type": "code",
        "outputId": "7e490b20-1d65-47ca-eb39-4eab05b00f30",
        "colab": {}
      },
      "source": [
        "# import necessary libraries\n",
        "import numpy as np\n",
        "import pandas as pd\n",
        "import tensorflow as tf\n",
        "from tensorflow.keras import models\n",
        "from tensorflow.keras import layers\n",
        "from tensorflow.keras import optimizers\n",
        "from sklearn.model_selection import train_test_split"
      ],
      "execution_count": 0,
      "outputs": [
        {
          "output_type": "stream",
          "text": [
            "/Users/sindhuja/Applications/anaconda3/envs/tflow/lib/python3.7/site-packages/tensorflow/python/framework/dtypes.py:516: FutureWarning: Passing (type, 1) or '1type' as a synonym of type is deprecated; in a future version of numpy, it will be understood as (type, (1,)) / '(1,)type'.\n",
            "  _np_qint8 = np.dtype([(\"qint8\", np.int8, 1)])\n",
            "/Users/sindhuja/Applications/anaconda3/envs/tflow/lib/python3.7/site-packages/tensorflow/python/framework/dtypes.py:517: FutureWarning: Passing (type, 1) or '1type' as a synonym of type is deprecated; in a future version of numpy, it will be understood as (type, (1,)) / '(1,)type'.\n",
            "  _np_quint8 = np.dtype([(\"quint8\", np.uint8, 1)])\n",
            "/Users/sindhuja/Applications/anaconda3/envs/tflow/lib/python3.7/site-packages/tensorflow/python/framework/dtypes.py:518: FutureWarning: Passing (type, 1) or '1type' as a synonym of type is deprecated; in a future version of numpy, it will be understood as (type, (1,)) / '(1,)type'.\n",
            "  _np_qint16 = np.dtype([(\"qint16\", np.int16, 1)])\n",
            "/Users/sindhuja/Applications/anaconda3/envs/tflow/lib/python3.7/site-packages/tensorflow/python/framework/dtypes.py:519: FutureWarning: Passing (type, 1) or '1type' as a synonym of type is deprecated; in a future version of numpy, it will be understood as (type, (1,)) / '(1,)type'.\n",
            "  _np_quint16 = np.dtype([(\"quint16\", np.uint16, 1)])\n",
            "/Users/sindhuja/Applications/anaconda3/envs/tflow/lib/python3.7/site-packages/tensorflow/python/framework/dtypes.py:520: FutureWarning: Passing (type, 1) or '1type' as a synonym of type is deprecated; in a future version of numpy, it will be understood as (type, (1,)) / '(1,)type'.\n",
            "  _np_qint32 = np.dtype([(\"qint32\", np.int32, 1)])\n",
            "/Users/sindhuja/Applications/anaconda3/envs/tflow/lib/python3.7/site-packages/tensorflow/python/framework/dtypes.py:525: FutureWarning: Passing (type, 1) or '1type' as a synonym of type is deprecated; in a future version of numpy, it will be understood as (type, (1,)) / '(1,)type'.\n",
            "  np_resource = np.dtype([(\"resource\", np.ubyte, 1)])\n",
            "/Users/sindhuja/Applications/anaconda3/envs/tflow/lib/python3.7/site-packages/tensorboard/compat/tensorflow_stub/dtypes.py:541: FutureWarning: Passing (type, 1) or '1type' as a synonym of type is deprecated; in a future version of numpy, it will be understood as (type, (1,)) / '(1,)type'.\n",
            "  _np_qint8 = np.dtype([(\"qint8\", np.int8, 1)])\n",
            "/Users/sindhuja/Applications/anaconda3/envs/tflow/lib/python3.7/site-packages/tensorboard/compat/tensorflow_stub/dtypes.py:542: FutureWarning: Passing (type, 1) or '1type' as a synonym of type is deprecated; in a future version of numpy, it will be understood as (type, (1,)) / '(1,)type'.\n",
            "  _np_quint8 = np.dtype([(\"quint8\", np.uint8, 1)])\n",
            "/Users/sindhuja/Applications/anaconda3/envs/tflow/lib/python3.7/site-packages/tensorboard/compat/tensorflow_stub/dtypes.py:543: FutureWarning: Passing (type, 1) or '1type' as a synonym of type is deprecated; in a future version of numpy, it will be understood as (type, (1,)) / '(1,)type'.\n",
            "  _np_qint16 = np.dtype([(\"qint16\", np.int16, 1)])\n",
            "/Users/sindhuja/Applications/anaconda3/envs/tflow/lib/python3.7/site-packages/tensorboard/compat/tensorflow_stub/dtypes.py:544: FutureWarning: Passing (type, 1) or '1type' as a synonym of type is deprecated; in a future version of numpy, it will be understood as (type, (1,)) / '(1,)type'.\n",
            "  _np_quint16 = np.dtype([(\"quint16\", np.uint16, 1)])\n",
            "/Users/sindhuja/Applications/anaconda3/envs/tflow/lib/python3.7/site-packages/tensorboard/compat/tensorflow_stub/dtypes.py:545: FutureWarning: Passing (type, 1) or '1type' as a synonym of type is deprecated; in a future version of numpy, it will be understood as (type, (1,)) / '(1,)type'.\n",
            "  _np_qint32 = np.dtype([(\"qint32\", np.int32, 1)])\n",
            "/Users/sindhuja/Applications/anaconda3/envs/tflow/lib/python3.7/site-packages/tensorboard/compat/tensorflow_stub/dtypes.py:550: FutureWarning: Passing (type, 1) or '1type' as a synonym of type is deprecated; in a future version of numpy, it will be understood as (type, (1,)) / '(1,)type'.\n",
            "  np_resource = np.dtype([(\"resource\", np.ubyte, 1)])\n"
          ],
          "name": "stderr"
        }
      ]
    },
    {
      "cell_type": "markdown",
      "metadata": {
        "id": "TTObT6yQ9BFG",
        "colab_type": "text"
      },
      "source": [
        "## Loading the data\n",
        "\n",
        "The pricing data for the period from 1Jan2017 to 30Sep2019 in CSV format from the following web page was downloaded on 31 Oct 2019 with the last update on 15 Oct 2019.\n",
        "\n",
        "https://data.gov.sg/dataset/resale-flat-prices\n",
        "\n",
        "The data is provided by Housing Development Board and updated on a monthly basis. \n",
        "\n",
        "* Importing the data using Pandas and examine the shape. There are 10 feature columns plus the predictor, the resale price (`resale_price`). "
      ]
    },
    {
      "cell_type": "code",
      "metadata": {
        "id": "Ayncb7hf9BFG",
        "colab_type": "code",
        "colab": {}
      },
      "source": [
        "# load the dataset\n",
        "data = pd.read_csv('resale-flat-prices-based-on-registration-date-from-jan-2017-onwards.csv', \\\n",
        "                   thousands=',')"
      ],
      "execution_count": 0,
      "outputs": []
    },
    {
      "cell_type": "markdown",
      "metadata": {
        "id": "yAR8vi8H9BFI",
        "colab_type": "text"
      },
      "source": [
        "## Understanding the data\n",
        "\n",
        "There are three different types: integers (`int64`), floats (`float64`), and strings (`object`, categoricals). "
      ]
    },
    {
      "cell_type": "code",
      "metadata": {
        "id": "Gy2XQY7y9BFI",
        "colab_type": "code",
        "outputId": "f7cf3fc1-a5c1-4c11-c4fe-0f192bb029f0",
        "colab": {}
      },
      "source": [
        "print(data.shape)"
      ],
      "execution_count": 0,
      "outputs": [
        {
          "output_type": "stream",
          "text": [
            "(58154, 11)\n"
          ],
          "name": "stdout"
        }
      ]
    },
    {
      "cell_type": "code",
      "metadata": {
        "id": "CjLg_K5d9BFK",
        "colab_type": "code",
        "outputId": "2b4e6c62-cbb1-4943-91ad-6c230d146b95",
        "colab": {}
      },
      "source": [
        "data.dtypes.value_counts()"
      ],
      "execution_count": 0,
      "outputs": [
        {
          "output_type": "execute_result",
          "data": {
            "text/plain": [
              "object     8\n",
              "float64    2\n",
              "int64      1\n",
              "dtype: int64"
            ]
          },
          "metadata": {
            "tags": []
          },
          "execution_count": 5
        }
      ]
    },
    {
      "cell_type": "code",
      "metadata": {
        "id": "qEzmchXh9BFM",
        "colab_type": "code",
        "outputId": "d5a32e12-452e-49e6-c014-7695ef7942d0",
        "colab": {}
      },
      "source": [
        "data.info()"
      ],
      "execution_count": 0,
      "outputs": [
        {
          "output_type": "stream",
          "text": [
            "<class 'pandas.core.frame.DataFrame'>\n",
            "RangeIndex: 58154 entries, 0 to 58153\n",
            "Data columns (total 11 columns):\n",
            "month                  58154 non-null object\n",
            "town                   58154 non-null object\n",
            "flat_type              58154 non-null object\n",
            "block                  58154 non-null object\n",
            "street_name            58154 non-null object\n",
            "storey_range           58154 non-null object\n",
            "floor_area_sqm         58154 non-null float64\n",
            "flat_model             58154 non-null object\n",
            "lease_commence_date    58154 non-null int64\n",
            "remaining_lease        58154 non-null object\n",
            "resale_price           58154 non-null float64\n",
            "dtypes: float64(2), int64(1), object(8)\n",
            "memory usage: 4.9+ MB\n"
          ],
          "name": "stdout"
        }
      ]
    },
    {
      "cell_type": "markdown",
      "metadata": {
        "id": "P76f65vV9BFN",
        "colab_type": "text"
      },
      "source": [
        "### Data Preparation with no standardization:\n",
        "\n",
        "The features 'block' and 'street_name' are excluded, since I thought I would just predict based on 'town'\n",
        "\n",
        "Initially there was no standardization.\n",
        "\n",
        "A significant challenge, particularly when dealing with data that have many columns, is ensuring each column gets encoded correctly. \n",
        "\n",
        "This is particularly true with data columns that are ordered categoricals (ordinals) vs unordered categoricals. Unordered categoricals should be one-hot encoded, however this can significantly increase the number of features and creates features that are highly correlated with each other."
      ]
    },
    {
      "cell_type": "code",
      "metadata": {
        "id": "M-WiAUsI9BFO",
        "colab_type": "code",
        "colab": {}
      },
      "source": [
        "# Data preparation\n",
        "month_unix = pd.to_datetime(data['month'], format='%Y-%m').astype(int) / 10**9\n",
        "\n",
        "# one hot encoding for data['town']\n",
        "town = data['town']\n",
        "town_one_hot = pd.get_dummies(town,prefix='town')\n",
        "\n",
        "# one hot encoding for data['flat_type']\n",
        "flat_type = data['flat_type']\n",
        "flat_type_one_hot = pd.get_dummies(flat_type,prefix='flat_type')\n",
        "\n",
        "# one hot encoding for data['storey_range']\n",
        "storey_range_one_hot = pd.get_dummies(data['storey_range'],prefix='storey_range')\n",
        "\n",
        "# one hot encoding for data['flat_model']\n",
        "flat_model_one_hot = pd.get_dummies(data['flat_model'], prefix='flat_model')\n",
        "\n",
        "remaining_lease_yrs =  data.remaining_lease.str.slice(0, 2).astype(int)"
      ],
      "execution_count": 0,
      "outputs": []
    },
    {
      "cell_type": "code",
      "metadata": {
        "id": "3Mzv8kzh9BFP",
        "colab_type": "code",
        "outputId": "7be63e43-5943-4f1e-c09d-1e58b68d735b",
        "colab": {}
      },
      "source": [
        "# concatenating the required columns from original dataset\n",
        "data_oh1 = pd.concat([month_unix,town_one_hot],axis=1,sort=False)\n",
        "data_oh2 = pd.concat([data_oh1,flat_type_one_hot],axis=1,sort=False)\n",
        "data_oh3 = pd.concat([data_oh2,storey_range_one_hot],axis=1,sort=False)\n",
        "data_oh4 = pd.concat([data_oh3,data['floor_area_sqm']],axis=1,sort=False)\n",
        "data_oh5 = pd.concat([data_oh4,flat_model_one_hot],axis=1,sort=False)\n",
        "data_oh = pd.concat([data_oh5, remaining_lease_yrs], axis=1, sort=False)\n",
        "data_oh.head(1)"
      ],
      "execution_count": 0,
      "outputs": [
        {
          "output_type": "execute_result",
          "data": {
            "text/html": [
              "<div>\n",
              "<style scoped>\n",
              "    .dataframe tbody tr th:only-of-type {\n",
              "        vertical-align: middle;\n",
              "    }\n",
              "\n",
              "    .dataframe tbody tr th {\n",
              "        vertical-align: top;\n",
              "    }\n",
              "\n",
              "    .dataframe thead th {\n",
              "        text-align: right;\n",
              "    }\n",
              "</style>\n",
              "<table border=\"1\" class=\"dataframe\">\n",
              "  <thead>\n",
              "    <tr style=\"text-align: right;\">\n",
              "      <th></th>\n",
              "      <th>month</th>\n",
              "      <th>town_ANG MO KIO</th>\n",
              "      <th>town_BEDOK</th>\n",
              "      <th>town_BISHAN</th>\n",
              "      <th>town_BUKIT BATOK</th>\n",
              "      <th>town_BUKIT MERAH</th>\n",
              "      <th>town_BUKIT PANJANG</th>\n",
              "      <th>town_BUKIT TIMAH</th>\n",
              "      <th>town_CENTRAL AREA</th>\n",
              "      <th>town_CHOA CHU KANG</th>\n",
              "      <th>...</th>\n",
              "      <th>flat_model_New Generation</th>\n",
              "      <th>flat_model_Premium Apartment</th>\n",
              "      <th>flat_model_Premium Apartment Loft</th>\n",
              "      <th>flat_model_Premium Maisonette</th>\n",
              "      <th>flat_model_Simplified</th>\n",
              "      <th>flat_model_Standard</th>\n",
              "      <th>flat_model_Terrace</th>\n",
              "      <th>flat_model_Type S1</th>\n",
              "      <th>flat_model_Type S2</th>\n",
              "      <th>remaining_lease</th>\n",
              "    </tr>\n",
              "  </thead>\n",
              "  <tbody>\n",
              "    <tr>\n",
              "      <th>0</th>\n",
              "      <td>1.483229e+09</td>\n",
              "      <td>1</td>\n",
              "      <td>0</td>\n",
              "      <td>0</td>\n",
              "      <td>0</td>\n",
              "      <td>0</td>\n",
              "      <td>0</td>\n",
              "      <td>0</td>\n",
              "      <td>0</td>\n",
              "      <td>0</td>\n",
              "      <td>...</td>\n",
              "      <td>0</td>\n",
              "      <td>0</td>\n",
              "      <td>0</td>\n",
              "      <td>0</td>\n",
              "      <td>0</td>\n",
              "      <td>0</td>\n",
              "      <td>0</td>\n",
              "      <td>0</td>\n",
              "      <td>0</td>\n",
              "      <td>61</td>\n",
              "    </tr>\n",
              "  </tbody>\n",
              "</table>\n",
              "<p>1 rows × 72 columns</p>\n",
              "</div>"
            ],
            "text/plain": [
              "          month  town_ANG MO KIO  town_BEDOK  town_BISHAN  town_BUKIT BATOK  \\\n",
              "0  1.483229e+09                1           0            0                 0   \n",
              "\n",
              "   town_BUKIT MERAH  town_BUKIT PANJANG  town_BUKIT TIMAH  town_CENTRAL AREA  \\\n",
              "0                 0                   0                 0                  0   \n",
              "\n",
              "   town_CHOA CHU KANG  ...  flat_model_New Generation  \\\n",
              "0                   0  ...                          0   \n",
              "\n",
              "   flat_model_Premium Apartment  flat_model_Premium Apartment Loft  \\\n",
              "0                             0                                  0   \n",
              "\n",
              "   flat_model_Premium Maisonette  flat_model_Simplified  flat_model_Standard  \\\n",
              "0                              0                      0                    0   \n",
              "\n",
              "   flat_model_Terrace  flat_model_Type S1  flat_model_Type S2  remaining_lease  \n",
              "0                   0                   0                   0               61  \n",
              "\n",
              "[1 rows x 72 columns]"
            ]
          },
          "metadata": {
            "tags": []
          },
          "execution_count": 13
        }
      ]
    },
    {
      "cell_type": "markdown",
      "metadata": {
        "id": "63wGe3xn9BFR",
        "colab_type": "text"
      },
      "source": [
        "There are 72 features now, after one-hot encoding."
      ]
    },
    {
      "cell_type": "markdown",
      "metadata": {
        "id": "DeBv8x-_9BFS",
        "colab_type": "text"
      },
      "source": [
        "## Splitting the Dataset\n",
        "\n",
        "Create train and test splits of both data sets using sklearn's train_test_split method\n"
      ]
    },
    {
      "cell_type": "code",
      "metadata": {
        "id": "qdDb5XwU9BFS",
        "colab_type": "code",
        "colab": {}
      },
      "source": [
        "# Split dataset into random train and test subsets\n",
        "train_x, test_x, train_y, test_y = train_test_split(data_oh.values, data['resale_price'].values, test_size = 0.2, random_state = 0)\n"
      ],
      "execution_count": 0,
      "outputs": []
    },
    {
      "cell_type": "code",
      "metadata": {
        "id": "pbYbiHJA9BFU",
        "colab_type": "code",
        "outputId": "4da45cb9-b539-4c30-f39a-db97b4a0c168",
        "colab": {}
      },
      "source": [
        "# print the shape of the train & test subsets\n",
        "print(\"train_x: \",train_x.shape)\n",
        "print(\"test_x: \",test_x.shape)\n",
        "print(\"train_y: \",train_y.shape)\n",
        "print(\"test_y: \",test_y.shape)"
      ],
      "execution_count": 0,
      "outputs": [
        {
          "output_type": "stream",
          "text": [
            "train_x:  (46523, 72)\n",
            "test_x:  (11631, 72)\n",
            "train_y:  (46523,)\n",
            "test_y:  (11631,)\n"
          ],
          "name": "stdout"
        }
      ]
    },
    {
      "cell_type": "markdown",
      "metadata": {
        "id": "gDIszflH9BFV",
        "colab_type": "text"
      },
      "source": [
        "The data is now ready for training the neural network model and can now start to build the model. \n",
        "\n",
        "\n",
        "## Constructing Keras Model\n",
        "\n",
        "First, a Keras sequential model is built with one input layer, two hidden layer and an output layer.\n",
        "Since it's a regression model, the output layer's activation function will be 'linear', while the hidden layers will have 'relu' as activation function."
      ]
    },
    {
      "cell_type": "code",
      "metadata": {
        "id": "OAWsrFuC9BFW",
        "colab_type": "code",
        "outputId": "8d5db847-6f78-4ce1-eae0-6a6856c38cf8",
        "colab": {}
      },
      "source": [
        "# create model\n",
        "model = models.Sequential()\n",
        "model.add(layers.Dense(16, name=\"hidden1\", activation='relu', input_shape=(72,)))\n",
        "model.add(layers.Dense(16, name=\"hidden2\", activation='relu'))\n",
        "model.add(layers.Dense(1, name=\"output\"))\n",
        "print(model.summary())"
      ],
      "execution_count": 0,
      "outputs": [
        {
          "output_type": "stream",
          "text": [
            "Model: \"sequential_2\"\n",
            "_________________________________________________________________\n",
            "Layer (type)                 Output Shape              Param #   \n",
            "=================================================================\n",
            "hidden1 (Dense)              (None, 16)                1168      \n",
            "_________________________________________________________________\n",
            "hidden2 (Dense)              (None, 16)                272       \n",
            "_________________________________________________________________\n",
            "output (Dense)               (None, 1)                 17        \n",
            "=================================================================\n",
            "Total params: 1,457\n",
            "Trainable params: 1,457\n",
            "Non-trainable params: 0\n",
            "_________________________________________________________________\n",
            "None\n"
          ],
          "name": "stdout"
        }
      ]
    },
    {
      "cell_type": "markdown",
      "metadata": {
        "id": "xiM1wZAI9BFX",
        "colab_type": "text"
      },
      "source": [
        "The model has an input shape of (72,) because there are 72 features and RELU activation function for our hidden layer. The output layer has a single unit and there is no activation defined, this is usually used for scalar regression. By default, the activation function will be 'linear'.\n",
        "\n",
        "As can be seen from the summary, there are 2 layers with 16 neurons and a third output layer with only 1 neuron. There are 16 inputs to the hidden and output layer and only one output value, since only one numerical target value is predicted.\n",
        "\n",
        "There are a 1168 weights for the first layer, 272 weights in the second layer and 17 weight in the final output layers making a total of 1457 weights (parameters).\n",
        "\n",
        "Once everything is as defined, the model can be compiled now.\n"
      ]
    },
    {
      "cell_type": "markdown",
      "metadata": {
        "id": "rg94WhEA9BFY",
        "colab_type": "text"
      },
      "source": [
        "## Compiling the model\n",
        "\n",
        "Adding codes to compile the model with mean_squared_error as the loss function, rmsprop as the optimizer and ['mae'] as the metrics to be monitored.\n",
        "\n",
        "Mean squared error is a widely used loss function for regression problems. The mae (Mean Absolute Error) is also monitored during training. The mean absolute Error means the absolute difference between the predicted and actual value."
      ]
    },
    {
      "cell_type": "code",
      "metadata": {
        "id": "aUSak-ye9BFY",
        "colab_type": "code",
        "colab": {}
      },
      "source": [
        "# compile model\n",
        "model.compile(optimizer='rmsprop', loss='mse', metrics=['mae'])"
      ],
      "execution_count": 0,
      "outputs": []
    },
    {
      "cell_type": "markdown",
      "metadata": {
        "id": "JOpTLLUH9BFa",
        "colab_type": "text"
      },
      "source": [
        "## Training the model\n",
        "\n",
        "Add codes to train the model using the model's fit() function with the following values for the arguments:\n",
        "\n",
        "x (training data) = train_x\n",
        "\n",
        "y (training labels) = train_y\n",
        "\n",
        "validation_data = 20% of training data\n",
        "\n",
        "epochs = 10"
      ]
    },
    {
      "cell_type": "code",
      "metadata": {
        "id": "F3j2EQY99BFa",
        "colab_type": "code",
        "outputId": "9faf9a4b-335d-430e-aed8-c956fcebea13",
        "colab": {}
      },
      "source": [
        "# Fit the model\n",
        "EPOCHS = 10\n",
        "history = model.fit(train_x, train_y, validation_split=0.2, epochs=EPOCHS, shuffle=True)"
      ],
      "execution_count": 0,
      "outputs": [
        {
          "output_type": "stream",
          "text": [
            "Train on 37218 samples, validate on 9305 samples\n",
            "Epoch 1/10\n",
            "37218/37218 [==============================] - 3s 71us/sample - loss: 123646486573417.1875 - mean_absolute_error: 3115298.7500 - val_loss: 2220656008042.4443 - val_mean_absolute_error: 1482074.5000\n",
            "Epoch 2/10\n",
            "37218/37218 [==============================] - 2s 58us/sample - loss: 1299425505997.7739 - mean_absolute_error: 1099038.0000 - val_loss: 531527265170.5019 - val_mean_absolute_error: 712392.1250\n",
            "Epoch 3/10\n",
            "37218/37218 [==============================] - 2s 56us/sample - loss: 618810781749.9266 - mean_absolute_error: 705045.6250 - val_loss: 565543110087.0499 - val_mean_absolute_error: 735412.5625\n",
            "Epoch 4/10\n",
            "37218/37218 [==============================] - 2s 56us/sample - loss: 491796164922.5351 - mean_absolute_error: 648690.3125 - val_loss: 231491323542.8213 - val_mean_absolute_error: 455440.1250\n",
            "Epoch 5/10\n",
            "37218/37218 [==============================] - 2s 56us/sample - loss: 216291890851.4581 - mean_absolute_error: 402112.6875 - val_loss: 83997395950.9425 - val_mean_absolute_error: 264031.5312\n",
            "Epoch 6/10\n",
            "37218/37218 [==============================] - 2s 56us/sample - loss: 41588391880.3125 - mean_absolute_error: 148237.4844 - val_loss: 33354206309.5746 - val_mean_absolute_error: 128707.3516\n",
            "Epoch 7/10\n",
            "37218/37218 [==============================] - 2s 56us/sample - loss: 27013143707.8919 - mean_absolute_error: 125904.0703 - val_loss: 25955214555.1063 - val_mean_absolute_error: 133364.1562\n",
            "Epoch 8/10\n",
            "37218/37218 [==============================] - 2s 56us/sample - loss: 27090753767.6642 - mean_absolute_error: 126258.2812 - val_loss: 64155504340.2283 - val_mean_absolute_error: 228796.1719\n",
            "Epoch 9/10\n",
            "37218/37218 [==============================] - 2s 56us/sample - loss: 26955592459.4869 - mean_absolute_error: 126130.2031 - val_loss: 37452645097.6877 - val_mean_absolute_error: 137652.5000\n",
            "Epoch 10/10\n",
            "37218/37218 [==============================] - 2s 56us/sample - loss: 26857273808.5941 - mean_absolute_error: 125993.4453 - val_loss: 24366568687.7954 - val_mean_absolute_error: 118111.8125\n"
          ],
          "name": "stdout"
        }
      ]
    },
    {
      "cell_type": "markdown",
      "metadata": {
        "id": "Z3WGlf2T9BFc",
        "colab_type": "text"
      },
      "source": [
        "Plotting a graph to show how the means absolute error improves during the training process."
      ]
    },
    {
      "cell_type": "code",
      "metadata": {
        "id": "K5vZvISm9BFc",
        "colab_type": "code",
        "outputId": "439e70f9-f485-4990-f5b7-b3df26cda456",
        "colab": {}
      },
      "source": [
        "# plot a graph to show how the means absolute error improves during the training process\n",
        "import matplotlib.pyplot as plt\n",
        "history_dict = history.history\n",
        " \n",
        "fig, (p1, p2) = plt.subplots(1, 2, figsize=(15,5))\n",
        " \n",
        "x = range(1, EPOCHS+1)\n",
        " \n",
        "p1.plot(x, history_dict['loss'], 'r', label='Training Loss')\n",
        "p1.plot(x, history_dict['val_loss'], 'b', label='Validation Loss')\n",
        "p1.set_title('Training and Validation Loss')\n",
        "p1.set_xlabel('Epochs')\n",
        "p1.set_ylabel('Loss')\n",
        "p1.legend()\n",
        " \n",
        "p2.plot(x, history_dict['mean_absolute_error'], 'r', label='Training Acc')\n",
        "p2.plot(x, history_dict['val_mean_absolute_error'], 'b', label='Validation Acc')\n",
        "p2.set_title('Training and Validation MAE')\n",
        "p2.set_xlabel('Epochs')\n",
        "p2.set_ylabel('Mean Absolute Error')\n",
        "p2.legend()\n",
        " \n",
        "plt.show()"
      ],
      "execution_count": 0,
      "outputs": [
        {
          "output_type": "display_data",
          "data": {
            "image/png": "[encoded data removed]",
            "text/plain": [
              "<Figure size 1080x360 with 2 Axes>"
            ]
          },
          "metadata": {
            "tags": [],
            "needs_background": "light"
          }
        }
      ]
    },
    {
      "cell_type": "markdown",
      "metadata": {
        "id": "ynCNLziG9BFe",
        "colab_type": "text"
      },
      "source": [
        "As seen from the graph, the MAE for training is higher than validation. Also the MAE is around 125993, which is very high.\n",
        "\n",
        "The data seems to be 'under-fitted'.\n",
        "\n",
        "\n",
        "## Tried increasing the number of neurons on the input layers"
      ]
    },
    {
      "cell_type": "code",
      "metadata": {
        "id": "ZrCSkieG9BFe",
        "colab_type": "code",
        "colab": {}
      },
      "source": [
        "# created another model with more neurons in hidden layers\n",
        "model = models.Sequential()\n",
        "model.add(layers.Dense(256, activation='relu', input_shape=(72,)))\n",
        "model.add(layers.Dense(128, activation='relu'))\n",
        "model.add(layers.Dense(1))"
      ],
      "execution_count": 0,
      "outputs": []
    },
    {
      "cell_type": "code",
      "metadata": {
        "id": "v2YaqSlK9BFg",
        "colab_type": "code",
        "colab": {}
      },
      "source": [
        "# compile the model\n",
        "model.compile(optimizer='rmsprop', loss='mse', metrics=['mae'])"
      ],
      "execution_count": 0,
      "outputs": []
    },
    {
      "cell_type": "code",
      "metadata": {
        "id": "I9Kgg6hB9BFh",
        "colab_type": "code",
        "outputId": "09aaf50c-3374-4c52-c057-975b9a14ac02",
        "colab": {}
      },
      "source": [
        "# Fit the model\n",
        "EPOCHS = 10\n",
        "history = model.fit(train_x, train_y, validation_split=0.2, epochs=EPOCHS, shuffle=True)"
      ],
      "execution_count": 0,
      "outputs": [
        {
          "output_type": "stream",
          "text": [
            "Train on 37218 samples, validate on 9305 samples\n",
            "Epoch 1/10\n",
            "37218/37218 [==============================] - 4s 119us/sample - loss: 344301810298536.0000 - mean_absolute_error: 12612841.0000 - val_loss: 3408003638687.4326 - val_mean_absolute_error: 1839495.5000\n",
            "Epoch 2/10\n",
            "37218/37218 [==============================] - 4s 103us/sample - loss: 1100689977465.3899 - mean_absolute_error: 848527.6875 - val_loss: 54860960707.5835 - val_mean_absolute_error: 210461.3281\n",
            "Epoch 3/10\n",
            "37218/37218 [==============================] - 4s 100us/sample - loss: 32080637155.4272 - mean_absolute_error: 137424.5000 - val_loss: 66048590455.2374 - val_mean_absolute_error: 232365.0312\n",
            "Epoch 4/10\n",
            "37218/37218 [==============================] - 4s 100us/sample - loss: 27165156558.8057 - mean_absolute_error: 126445.5781 - val_loss: 45675774111.7902 - val_mean_absolute_error: 157101.9375\n",
            "Epoch 5/10\n",
            "37218/37218 [==============================] - 4s 100us/sample - loss: 26748020867.1847 - mean_absolute_error: 125471.5547 - val_loss: 66030397445.5024 - val_mean_absolute_error: 232331.0781\n",
            "Epoch 6/10\n",
            "37218/37218 [==============================] - 4s 100us/sample - loss: 26298997239.2232 - mean_absolute_error: 124448.7812 - val_loss: 27318042760.2399 - val_mean_absolute_error: 117952.8984\n",
            "Epoch 7/10\n",
            "37218/37218 [==============================] - 4s 100us/sample - loss: 26108658614.2086 - mean_absolute_error: 123801.1250 - val_loss: 24226154288.4488 - val_mean_absolute_error: 120684.0547\n",
            "Epoch 8/10\n",
            "37218/37218 [==============================] - 4s 100us/sample - loss: 25683433446.9627 - mean_absolute_error: 122804.5156 - val_loss: 39676382972.9462 - val_mean_absolute_error: 142740.6719\n",
            "Epoch 9/10\n",
            "37218/37218 [==============================] - 4s 100us/sample - loss: 25492145284.1477 - mean_absolute_error: 122298.4766 - val_loss: 33073444734.8032 - val_mean_absolute_error: 128118.9375\n",
            "Epoch 10/10\n",
            "37218/37218 [==============================] - 4s 100us/sample - loss: 25175034495.3603 - mean_absolute_error: 121624.2812 - val_loss: 24753098320.6104 - val_mean_absolute_error: 126609.5234\n"
          ],
          "name": "stdout"
        }
      ]
    },
    {
      "cell_type": "code",
      "metadata": {
        "id": "hYurQsWk9BFj",
        "colab_type": "code",
        "outputId": "c24d0dfd-3df6-45da-8656-e717a3d942da",
        "colab": {}
      },
      "source": [
        "# plot a graph to show how the means absolute error improves during the training process\n",
        "import matplotlib.pyplot as plt\n",
        "history_dict = history.history\n",
        " \n",
        "fig, (p1, p2) = plt.subplots(1, 2, figsize=(15,5))\n",
        " \n",
        "x = range(1, EPOCHS+1)\n",
        " \n",
        "p1.plot(x, history_dict['loss'], 'r', label='Training Loss')\n",
        "p1.plot(x, history_dict['val_loss'], 'b', label='Validation Loss')\n",
        "p1.set_title('Training and Validation Loss')\n",
        "p1.set_xlabel('Epochs')\n",
        "p1.set_ylabel('Loss')\n",
        "p1.legend()\n",
        " \n",
        "p2.plot(x, history_dict['mean_absolute_error'], 'r', label='Training Acc')\n",
        "p2.plot(x, history_dict['val_mean_absolute_error'], 'b', label='Validation Acc')\n",
        "p2.set_title('Training and Validation MAE')\n",
        "p2.set_xlabel('Epochs')\n",
        "p2.set_ylabel('Mean Absolute Error')\n",
        "p2.legend()\n",
        " \n",
        "plt.show()"
      ],
      "execution_count": 0,
      "outputs": [
        {
          "output_type": "display_data",
          "data": {
            "image/png": "[encoded data removed]",
            "text/plain": [
              "<Figure size 1080x360 with 2 Axes>"
            ]
          },
          "metadata": {
            "tags": [],
            "needs_background": "light"
          }
        }
      ]
    },
    {
      "cell_type": "markdown",
      "metadata": {
        "id": "fNQ1F-749BFl",
        "colab_type": "text"
      },
      "source": [
        "The MAE is still around 121624, which is still high. \n",
        "\n",
        "Hence standardized the 'floor_area_sqm', 'resale_price' and normalised 'month' as the number of years from 2017.\n",
        "\n",
        "## Standarised the floor area and resale price"
      ]
    },
    {
      "cell_type": "code",
      "metadata": {
        "id": "BqFBgP2U9BFm",
        "colab_type": "code",
        "colab": {}
      },
      "source": [
        "# normalize the year of sale\n",
        "sale_year = data.month.str.slice(0, 4).astype(int) - 2017\n",
        "\n",
        "town_one_hot = pd.get_dummies(data['town'],prefix='town')\n",
        "\n",
        "flat_type_one_hot = pd.get_dummies(data['flat_type'],prefix='flat_type')\n",
        "\n",
        "storey_range_one_hot = pd.get_dummies(data['storey_range'],prefix='storey_range')\n",
        "\n",
        "# standardized floor area\n",
        "floor_area_sqm = data['floor_area_sqm']\n",
        "floor_area_standardized = (floor_area_sqm - floor_area_sqm.mean(axis=0))/floor_area_sqm.std(axis=0)\n",
        "\n",
        "flat_model_one_hot = pd.get_dummies(data['flat_model'], prefix='flat_model')\n",
        "\n",
        "remaining_lease_yrs =  data.remaining_lease.str.slice(0, 2).astype(int)"
      ],
      "execution_count": 0,
      "outputs": []
    },
    {
      "cell_type": "code",
      "metadata": {
        "id": "hixxabHw9BFp",
        "colab_type": "code",
        "outputId": "eaf81780-de48-4f20-ab03-94678e4f9eb3",
        "colab": {}
      },
      "source": [
        "# concatenated the required columns to create input dataset\n",
        "data_oh = pd.concat([sale_year, town_one_hot, flat_type_one_hot, storey_range_one_hot, floor_area_standardized, flat_model_one_hot, remaining_lease_yrs], axis=1, sort=False)\n",
        "\n",
        "data_oh.columns = ['sale_year', 'town_ANG MO KIO', 'town_BEDOK', 'town_BISHAN',\n",
        "       'town_BUKIT BATOK', 'town_BUKIT MERAH', 'town_BUKIT PANJANG',\n",
        "       'town_BUKIT TIMAH', 'town_CENTRAL AREA', 'town_CHOA CHU KANG',\n",
        "       'town_CLEMENTI', 'town_GEYLANG', 'town_HOUGANG', 'town_JURONG EAST',\n",
        "       'town_JURONG WEST', 'town_KALLANG/WHAMPOA', 'town_MARINE PARADE',\n",
        "       'town_PASIR RIS', 'town_PUNGGOL', 'town_QUEENSTOWN', 'town_SEMBAWANG',\n",
        "       'town_SENGKANG', 'town_SERANGOON', 'town_TAMPINES', 'town_TOA PAYOH',\n",
        "       'town_WOODLANDS', 'town_YISHUN', 'flat_type_1 ROOM', 'flat_type_2 ROOM',\n",
        "       'flat_type_3 ROOM', 'flat_type_4 ROOM', 'flat_type_5 ROOM',\n",
        "       'flat_type_EXECUTIVE', 'flat_type_MULTI-GENERATION',\n",
        "       'storey_range_01 TO 03', 'storey_range_04 TO 06',\n",
        "       'storey_range_07 TO 09', 'storey_range_10 TO 12',\n",
        "       'storey_range_13 TO 15', 'storey_range_16 TO 18',\n",
        "       'storey_range_19 TO 21', 'storey_range_22 TO 24',\n",
        "       'storey_range_25 TO 27', 'storey_range_28 TO 30',\n",
        "       'storey_range_31 TO 33', 'storey_range_34 TO 36',\n",
        "       'storey_range_37 TO 39', 'storey_range_40 TO 42',\n",
        "       'storey_range_43 TO 45', 'storey_range_46 TO 48',\n",
        "       'storey_range_49 TO 51', 'floor_area_sqm_standardized', 'flat_model_Adjoined flat',\n",
        "       'flat_model_Apartment', 'flat_model_DBSS', 'flat_model_Improved',\n",
        "       'flat_model_Improved-Maisonette', 'flat_model_Maisonette',\n",
        "       'flat_model_Model A', 'flat_model_Model A-Maisonette',\n",
        "       'flat_model_Model A2', 'flat_model_Multi Generation',\n",
        "       'flat_model_New Generation', 'flat_model_Premium Apartment',\n",
        "       'flat_model_Premium Apartment Loft', 'flat_model_Premium Maisonette',\n",
        "       'flat_model_Simplified', 'flat_model_Standard', 'flat_model_Terrace',\n",
        "       'flat_model_Type S1', 'flat_model_Type S2', 'remaining_lease_yrs']\n",
        "\n",
        "data_oh.shape"
      ],
      "execution_count": 0,
      "outputs": [
        {
          "output_type": "execute_result",
          "data": {
            "text/plain": [
              "(58154, 72)"
            ]
          },
          "metadata": {
            "tags": []
          },
          "execution_count": 46
        }
      ]
    },
    {
      "cell_type": "code",
      "metadata": {
        "id": "tF6yBMF69BFq",
        "colab_type": "code",
        "outputId": "a2b406e2-cefe-462a-bee9-7734d82e909e",
        "colab": {}
      },
      "source": [
        "# standardised resale price\n",
        "resale_price = data['resale_price']\n",
        "resale_price_standardized = (resale_price - resale_price.mean(axis=0))/resale_price.std(axis=0)\n",
        "resale_price_standardized"
      ],
      "execution_count": 0,
      "outputs": [
        {
          "output_type": "execute_result",
          "data": {
            "text/plain": [
              "0       -1.345713\n",
              "1       -1.229015\n",
              "2       -1.151216\n",
              "3       -1.131767\n",
              "4       -1.131767\n",
              "           ...   \n",
              "58149    0.676325\n",
              "58150    1.661775\n",
              "58151    1.980179\n",
              "58152    1.072528\n",
              "58153    1.299441\n",
              "Name: resale_price, Length: 58154, dtype: float64"
            ]
          },
          "metadata": {
            "tags": []
          },
          "execution_count": 27
        }
      ]
    },
    {
      "cell_type": "code",
      "metadata": {
        "id": "hnbmpVUr9BFr",
        "colab_type": "code",
        "colab": {}
      },
      "source": [
        "# Split dataset into random train and test subsets\n",
        "train_x, test_x, train_y, test_y = train_test_split(data_oh.values, resale_price_standardized.astype(np.float64), test_size = 0.2, random_state = 0)\n"
      ],
      "execution_count": 0,
      "outputs": []
    },
    {
      "cell_type": "code",
      "metadata": {
        "id": "GihylJpe9BFt",
        "colab_type": "code",
        "outputId": "8c4a305b-2145-4cbf-84c1-f3bf59071e80",
        "colab": {}
      },
      "source": [
        "# Created another model\n",
        "model = models.Sequential()\n",
        "model.add(layers.Dense(64, name=\"hidden1\", input_shape=(72,), activation=\"relu\"))\n",
        "model.add(layers.Dense(64, name=\"hidden2\", activation=\"relu\", ))\n",
        "model.add(layers.Dense(1, name=\"output\"))\n",
        "print(model.summary())"
      ],
      "execution_count": 0,
      "outputs": [
        {
          "output_type": "stream",
          "text": [
            "Model: \"sequential_5\"\n",
            "_________________________________________________________________\n",
            "Layer (type)                 Output Shape              Param #   \n",
            "=================================================================\n",
            "hidden1 (Dense)              (None, 64)                4672      \n",
            "_________________________________________________________________\n",
            "hidden2 (Dense)              (None, 64)                4160      \n",
            "_________________________________________________________________\n",
            "output (Dense)               (None, 1)                 65        \n",
            "=================================================================\n",
            "Total params: 8,897\n",
            "Trainable params: 8,897\n",
            "Non-trainable params: 0\n",
            "_________________________________________________________________\n",
            "None\n"
          ],
          "name": "stdout"
        }
      ]
    },
    {
      "cell_type": "code",
      "metadata": {
        "id": "h6vdu6hX9BFu",
        "colab_type": "code",
        "colab": {}
      },
      "source": [
        "# compile model\n",
        "model.compile(optimizer='rmsprop', loss='mse', metrics=['mae'])"
      ],
      "execution_count": 0,
      "outputs": []
    },
    {
      "cell_type": "code",
      "metadata": {
        "id": "5QeCsl4O9BFw",
        "colab_type": "code",
        "outputId": "fcfa3268-ee7b-4e63-d38d-8e9740d4077a",
        "colab": {}
      },
      "source": [
        "# Fit the model with standardized inputs\n",
        "EPOCHS=100\n",
        "history = model.fit(train_x, train_y, validation_split=0.2, epochs=EPOCHS, batch_size=32)"
      ],
      "execution_count": 0,
      "outputs": [
        {
          "output_type": "stream",
          "text": [
            "Train on 37218 samples, validate on 9305 samples\n",
            "Epoch 1/100\n",
            "37218/37218 [==============================] - 3s 87us/sample - loss: 0.4407 - mean_absolute_error: 0.4946 - val_loss: 0.1767 - val_mean_absolute_error: 0.3422\n",
            "Epoch 2/100\n",
            "37218/37218 [==============================] - 3s 71us/sample - loss: 0.1608 - mean_absolute_error: 0.3020 - val_loss: 0.1177 - val_mean_absolute_error: 0.2509\n",
            "Epoch 3/100\n",
            "37218/37218 [==============================] - 3s 71us/sample - loss: 0.1279 - mean_absolute_error: 0.2650 - val_loss: 0.2893 - val_mean_absolute_error: 0.4033\n",
            "Epoch 4/100\n",
            "37218/37218 [==============================] - 3s 72us/sample - loss: 0.1169 - mean_absolute_error: 0.2521 - val_loss: 0.1059 - val_mean_absolute_error: 0.2358\n",
            "Epoch 5/100\n",
            "37218/37218 [==============================] - 3s 72us/sample - loss: 0.1107 - mean_absolute_error: 0.2448 - val_loss: 0.1348 - val_mean_absolute_error: 0.2897\n",
            "Epoch 6/100\n",
            "37218/37218 [==============================] - 3s 72us/sample - loss: 0.1058 - mean_absolute_error: 0.2384 - val_loss: 0.1194 - val_mean_absolute_error: 0.2475\n",
            "Epoch 7/100\n",
            "37218/37218 [==============================] - 3s 71us/sample - loss: 0.1025 - mean_absolute_error: 0.2347 - val_loss: 0.1768 - val_mean_absolute_error: 0.3275\n",
            "Epoch 8/100\n",
            "37218/37218 [==============================] - 3s 72us/sample - loss: 0.0994 - mean_absolute_error: 0.2303 - val_loss: 0.1185 - val_mean_absolute_error: 0.2452\n",
            "Epoch 9/100\n",
            "37218/37218 [==============================] - 3s 71us/sample - loss: 0.0976 - mean_absolute_error: 0.2279 - val_loss: 0.1118 - val_mean_absolute_error: 0.2652\n",
            "Epoch 10/100\n",
            "37218/37218 [==============================] - 3s 71us/sample - loss: 0.0961 - mean_absolute_error: 0.2253 - val_loss: 0.1020 - val_mean_absolute_error: 0.2325\n",
            "Epoch 11/100\n",
            "37218/37218 [==============================] - 3s 72us/sample - loss: 0.0937 - mean_absolute_error: 0.2226 - val_loss: 0.1045 - val_mean_absolute_error: 0.2296\n",
            "Epoch 12/100\n",
            "37218/37218 [==============================] - 3s 73us/sample - loss: 0.0914 - mean_absolute_error: 0.2196 - val_loss: 0.1430 - val_mean_absolute_error: 0.2732\n",
            "Epoch 13/100\n",
            "37218/37218 [==============================] - 3s 73us/sample - loss: 0.0903 - mean_absolute_error: 0.2187 - val_loss: 0.0926 - val_mean_absolute_error: 0.2157\n",
            "Epoch 14/100\n",
            "37218/37218 [==============================] - 3s 72us/sample - loss: 0.0886 - mean_absolute_error: 0.2167 - val_loss: 0.0861 - val_mean_absolute_error: 0.2106\n",
            "Epoch 15/100\n",
            "37218/37218 [==============================] - 3s 72us/sample - loss: 0.0871 - mean_absolute_error: 0.2146 - val_loss: 0.1342 - val_mean_absolute_error: 0.2796\n",
            "Epoch 16/100\n",
            "37218/37218 [==============================] - 3s 72us/sample - loss: 0.0866 - mean_absolute_error: 0.2133 - val_loss: 0.1615 - val_mean_absolute_error: 0.2832\n",
            "Epoch 17/100\n",
            "37218/37218 [==============================] - 3s 72us/sample - loss: 0.0849 - mean_absolute_error: 0.2118 - val_loss: 0.0845 - val_mean_absolute_error: 0.2111\n",
            "Epoch 18/100\n",
            "37218/37218 [==============================] - 3s 73us/sample - loss: 0.0841 - mean_absolute_error: 0.2103 - val_loss: 0.1321 - val_mean_absolute_error: 0.2517\n",
            "Epoch 19/100\n",
            "37218/37218 [==============================] - 3s 72us/sample - loss: 0.0836 - mean_absolute_error: 0.2092 - val_loss: 0.0846 - val_mean_absolute_error: 0.2141\n",
            "Epoch 20/100\n",
            "37218/37218 [==============================] - 3s 72us/sample - loss: 0.0823 - mean_absolute_error: 0.2078 - val_loss: 0.0919 - val_mean_absolute_error: 0.2315\n",
            "Epoch 21/100\n",
            "37218/37218 [==============================] - 3s 72us/sample - loss: 0.0813 - mean_absolute_error: 0.2067 - val_loss: 0.0840 - val_mean_absolute_error: 0.2068\n",
            "Epoch 22/100\n",
            "37218/37218 [==============================] - 3s 73us/sample - loss: 0.0807 - mean_absolute_error: 0.2056 - val_loss: 0.0875 - val_mean_absolute_error: 0.2234\n",
            "Epoch 23/100\n",
            "37218/37218 [==============================] - 3s 75us/sample - loss: 0.0805 - mean_absolute_error: 0.2055 - val_loss: 0.0903 - val_mean_absolute_error: 0.2277\n",
            "Epoch 24/100\n",
            "37218/37218 [==============================] - 3s 73us/sample - loss: 0.0798 - mean_absolute_error: 0.2043 - val_loss: 0.0873 - val_mean_absolute_error: 0.2238\n",
            "Epoch 25/100\n",
            "37218/37218 [==============================] - 3s 72us/sample - loss: 0.0789 - mean_absolute_error: 0.2035 - val_loss: 0.1051 - val_mean_absolute_error: 0.2305\n",
            "Epoch 26/100\n",
            "37218/37218 [==============================] - 3s 72us/sample - loss: 0.0790 - mean_absolute_error: 0.2035 - val_loss: 0.1044 - val_mean_absolute_error: 0.2415\n",
            "Epoch 27/100\n",
            "37218/37218 [==============================] - 3s 72us/sample - loss: 0.0779 - mean_absolute_error: 0.2020 - val_loss: 0.1150 - val_mean_absolute_error: 0.2627\n",
            "Epoch 28/100\n",
            "37218/37218 [==============================] - 3s 72us/sample - loss: 0.0776 - mean_absolute_error: 0.2014 - val_loss: 0.1522 - val_mean_absolute_error: 0.3022\n",
            "Epoch 29/100\n",
            "37218/37218 [==============================] - 3s 72us/sample - loss: 0.0775 - mean_absolute_error: 0.2013 - val_loss: 0.0792 - val_mean_absolute_error: 0.2019\n",
            "Epoch 30/100\n",
            "37218/37218 [==============================] - 3s 72us/sample - loss: 0.0770 - mean_absolute_error: 0.2002 - val_loss: 0.0957 - val_mean_absolute_error: 0.2388\n",
            "Epoch 31/100\n",
            "37218/37218 [==============================] - 3s 72us/sample - loss: 0.0766 - mean_absolute_error: 0.2001 - val_loss: 0.0757 - val_mean_absolute_error: 0.1971\n",
            "Epoch 32/100\n",
            "37218/37218 [==============================] - 3s 71us/sample - loss: 0.0759 - mean_absolute_error: 0.1994 - val_loss: 0.0891 - val_mean_absolute_error: 0.2137\n",
            "Epoch 33/100\n",
            "37218/37218 [==============================] - 3s 73us/sample - loss: 0.0759 - mean_absolute_error: 0.1994 - val_loss: 0.0801 - val_mean_absolute_error: 0.2064\n",
            "Epoch 34/100\n",
            "37218/37218 [==============================] - 3s 72us/sample - loss: 0.0753 - mean_absolute_error: 0.1990 - val_loss: 0.1068 - val_mean_absolute_error: 0.2378\n",
            "Epoch 35/100\n",
            "37218/37218 [==============================] - 3s 72us/sample - loss: 0.0750 - mean_absolute_error: 0.1980 - val_loss: 0.0863 - val_mean_absolute_error: 0.2101\n",
            "Epoch 36/100\n",
            "37218/37218 [==============================] - 3s 71us/sample - loss: 0.0753 - mean_absolute_error: 0.1983 - val_loss: 0.0945 - val_mean_absolute_error: 0.2370\n",
            "Epoch 37/100\n",
            "37218/37218 [==============================] - 3s 71us/sample - loss: 0.0749 - mean_absolute_error: 0.1975 - val_loss: 0.0764 - val_mean_absolute_error: 0.2008\n",
            "Epoch 38/100\n",
            "37218/37218 [==============================] - 3s 70us/sample - loss: 0.0747 - mean_absolute_error: 0.1975 - val_loss: 0.0766 - val_mean_absolute_error: 0.1990\n",
            "Epoch 39/100\n",
            "37218/37218 [==============================] - 3s 71us/sample - loss: 0.0742 - mean_absolute_error: 0.1965 - val_loss: 0.0791 - val_mean_absolute_error: 0.2044\n",
            "Epoch 40/100\n",
            "37218/37218 [==============================] - 3s 71us/sample - loss: 0.0742 - mean_absolute_error: 0.1969 - val_loss: 0.0857 - val_mean_absolute_error: 0.2077\n",
            "Epoch 41/100\n",
            "37218/37218 [==============================] - 3s 72us/sample - loss: 0.0732 - mean_absolute_error: 0.1955 - val_loss: 0.0862 - val_mean_absolute_error: 0.2137\n",
            "Epoch 42/100\n",
            "37218/37218 [==============================] - 3s 71us/sample - loss: 0.0734 - mean_absolute_error: 0.1955 - val_loss: 0.1037 - val_mean_absolute_error: 0.2305\n",
            "Epoch 43/100\n",
            "37218/37218 [==============================] - 3s 71us/sample - loss: 0.0733 - mean_absolute_error: 0.1951 - val_loss: 0.0749 - val_mean_absolute_error: 0.1957\n",
            "Epoch 44/100\n",
            "37218/37218 [==============================] - 3s 72us/sample - loss: 0.0731 - mean_absolute_error: 0.1954 - val_loss: 0.0818 - val_mean_absolute_error: 0.2164\n",
            "Epoch 45/100\n",
            "37218/37218 [==============================] - 3s 71us/sample - loss: 0.0727 - mean_absolute_error: 0.1947 - val_loss: 0.0778 - val_mean_absolute_error: 0.2019\n",
            "Epoch 46/100\n",
            "37218/37218 [==============================] - 3s 71us/sample - loss: 0.0725 - mean_absolute_error: 0.1941 - val_loss: 0.0907 - val_mean_absolute_error: 0.2149\n",
            "Epoch 47/100\n",
            "37218/37218 [==============================] - 3s 71us/sample - loss: 0.0720 - mean_absolute_error: 0.1934 - val_loss: 0.0941 - val_mean_absolute_error: 0.2253\n",
            "Epoch 48/100\n",
            "37218/37218 [==============================] - 3s 69us/sample - loss: 0.0721 - mean_absolute_error: 0.1941 - val_loss: 0.0965 - val_mean_absolute_error: 0.2211\n",
            "Epoch 49/100\n",
            "37218/37218 [==============================] - 3s 69us/sample - loss: 0.0720 - mean_absolute_error: 0.1936 - val_loss: 0.0743 - val_mean_absolute_error: 0.1935\n",
            "Epoch 50/100\n",
            "37218/37218 [==============================] - 3s 69us/sample - loss: 0.0717 - mean_absolute_error: 0.1933 - val_loss: 0.0772 - val_mean_absolute_error: 0.1977\n",
            "Epoch 51/100\n",
            "37218/37218 [==============================] - 3s 69us/sample - loss: 0.0716 - mean_absolute_error: 0.1931 - val_loss: 0.0725 - val_mean_absolute_error: 0.1897\n",
            "Epoch 52/100\n",
            "37218/37218 [==============================] - 3s 69us/sample - loss: 0.0713 - mean_absolute_error: 0.1923 - val_loss: 0.0737 - val_mean_absolute_error: 0.1927\n",
            "Epoch 53/100\n",
            "37218/37218 [==============================] - 3s 70us/sample - loss: 0.0711 - mean_absolute_error: 0.1921 - val_loss: 0.0784 - val_mean_absolute_error: 0.2008\n",
            "Epoch 54/100\n",
            "37218/37218 [==============================] - 3s 69us/sample - loss: 0.0713 - mean_absolute_error: 0.1928 - val_loss: 0.1021 - val_mean_absolute_error: 0.2250\n",
            "Epoch 55/100\n",
            "37218/37218 [==============================] - 3s 69us/sample - loss: 0.0707 - mean_absolute_error: 0.1915 - val_loss: 0.1247 - val_mean_absolute_error: 0.2536\n",
            "Epoch 56/100\n",
            "37218/37218 [==============================] - 3s 69us/sample - loss: 0.0707 - mean_absolute_error: 0.1917 - val_loss: 0.0885 - val_mean_absolute_error: 0.2267\n",
            "Epoch 57/100\n",
            "37218/37218 [==============================] - 3s 69us/sample - loss: 0.0707 - mean_absolute_error: 0.1917 - val_loss: 0.0844 - val_mean_absolute_error: 0.2133\n",
            "Epoch 58/100\n",
            "37218/37218 [==============================] - 3s 69us/sample - loss: 0.0706 - mean_absolute_error: 0.1917 - val_loss: 0.0754 - val_mean_absolute_error: 0.1950\n",
            "Epoch 59/100\n",
            "37218/37218 [==============================] - 3s 72us/sample - loss: 0.0703 - mean_absolute_error: 0.1914 - val_loss: 0.0771 - val_mean_absolute_error: 0.1960\n",
            "Epoch 60/100\n",
            "37218/37218 [==============================] - 3s 73us/sample - loss: 0.0705 - mean_absolute_error: 0.1914 - val_loss: 0.0807 - val_mean_absolute_error: 0.2011\n",
            "Epoch 61/100\n",
            "37218/37218 [==============================] - 3s 70us/sample - loss: 0.0702 - mean_absolute_error: 0.1911 - val_loss: 0.0836 - val_mean_absolute_error: 0.2076\n",
            "Epoch 62/100\n",
            "37218/37218 [==============================] - 3s 70us/sample - loss: 0.0698 - mean_absolute_error: 0.1903 - val_loss: 0.0788 - val_mean_absolute_error: 0.2022\n",
            "Epoch 63/100\n",
            "37218/37218 [==============================] - 3s 70us/sample - loss: 0.0698 - mean_absolute_error: 0.1898 - val_loss: 0.0759 - val_mean_absolute_error: 0.1949\n",
            "Epoch 64/100\n",
            "37218/37218 [==============================] - 3s 70us/sample - loss: 0.0698 - mean_absolute_error: 0.1903 - val_loss: 0.1105 - val_mean_absolute_error: 0.2404\n",
            "Epoch 65/100\n",
            "37218/37218 [==============================] - 3s 70us/sample - loss: 0.0697 - mean_absolute_error: 0.1900 - val_loss: 0.0850 - val_mean_absolute_error: 0.2189\n",
            "Epoch 66/100\n",
            "37218/37218 [==============================] - 3s 70us/sample - loss: 0.0695 - mean_absolute_error: 0.1899 - val_loss: 0.0771 - val_mean_absolute_error: 0.1952\n",
            "Epoch 67/100\n",
            "37218/37218 [==============================] - 3s 70us/sample - loss: 0.0694 - mean_absolute_error: 0.1899 - val_loss: 0.0747 - val_mean_absolute_error: 0.2006\n",
            "Epoch 68/100\n",
            "37218/37218 [==============================] - 3s 70us/sample - loss: 0.0691 - mean_absolute_error: 0.1891 - val_loss: 0.0762 - val_mean_absolute_error: 0.1971\n",
            "Epoch 69/100\n",
            "37218/37218 [==============================] - 3s 70us/sample - loss: 0.0691 - mean_absolute_error: 0.1890 - val_loss: 0.0755 - val_mean_absolute_error: 0.1990\n",
            "Epoch 70/100\n",
            "37218/37218 [==============================] - 3s 71us/sample - loss: 0.0692 - mean_absolute_error: 0.1895 - val_loss: 0.0775 - val_mean_absolute_error: 0.2031\n",
            "Epoch 71/100\n",
            "37218/37218 [==============================] - 3s 79us/sample - loss: 0.0688 - mean_absolute_error: 0.1887 - val_loss: 0.0764 - val_mean_absolute_error: 0.2039\n",
            "Epoch 72/100\n",
            "37218/37218 [==============================] - 3s 69us/sample - loss: 0.0690 - mean_absolute_error: 0.1892 - val_loss: 0.0737 - val_mean_absolute_error: 0.1967\n",
            "Epoch 73/100\n",
            "37218/37218 [==============================] - 3s 76us/sample - loss: 0.0689 - mean_absolute_error: 0.1887 - val_loss: 0.0751 - val_mean_absolute_error: 0.1920\n",
            "Epoch 74/100\n",
            "37218/37218 [==============================] - 3s 77us/sample - loss: 0.0687 - mean_absolute_error: 0.1885 - val_loss: 0.0736 - val_mean_absolute_error: 0.1956\n",
            "Epoch 75/100\n",
            "37218/37218 [==============================] - 3s 76us/sample - loss: 0.0683 - mean_absolute_error: 0.1878 - val_loss: 0.0792 - val_mean_absolute_error: 0.2002\n",
            "Epoch 76/100\n",
            "37218/37218 [==============================] - 3s 69us/sample - loss: 0.0683 - mean_absolute_error: 0.1882 - val_loss: 0.0865 - val_mean_absolute_error: 0.2111\n",
            "Epoch 77/100\n",
            "37218/37218 [==============================] - 3s 71us/sample - loss: 0.0683 - mean_absolute_error: 0.1881 - val_loss: 0.0858 - val_mean_absolute_error: 0.2155\n",
            "Epoch 78/100\n",
            "37218/37218 [==============================] - 3s 72us/sample - loss: 0.0680 - mean_absolute_error: 0.1878 - val_loss: 0.0721 - val_mean_absolute_error: 0.1911\n",
            "Epoch 79/100\n",
            "37218/37218 [==============================] - 3s 80us/sample - loss: 0.0682 - mean_absolute_error: 0.1879 - val_loss: 0.0751 - val_mean_absolute_error: 0.1977\n",
            "Epoch 80/100\n",
            "37218/37218 [==============================] - 3s 73us/sample - loss: 0.0680 - mean_absolute_error: 0.1878 - val_loss: 0.0746 - val_mean_absolute_error: 0.2017\n",
            "Epoch 81/100\n",
            "37218/37218 [==============================] - 3s 72us/sample - loss: 0.0679 - mean_absolute_error: 0.1876 - val_loss: 0.0896 - val_mean_absolute_error: 0.2090\n",
            "Epoch 82/100\n",
            "37218/37218 [==============================] - 3s 72us/sample - loss: 0.0677 - mean_absolute_error: 0.1872 - val_loss: 0.0753 - val_mean_absolute_error: 0.1960\n",
            "Epoch 83/100\n",
            "37218/37218 [==============================] - 3s 74us/sample - loss: 0.0677 - mean_absolute_error: 0.1870 - val_loss: 0.0806 - val_mean_absolute_error: 0.2038\n",
            "Epoch 84/100\n",
            "37218/37218 [==============================] - 3s 74us/sample - loss: 0.0676 - mean_absolute_error: 0.1872 - val_loss: 0.0759 - val_mean_absolute_error: 0.1931\n",
            "Epoch 85/100\n",
            "37218/37218 [==============================] - 3s 81us/sample - loss: 0.0678 - mean_absolute_error: 0.1872 - val_loss: 0.0748 - val_mean_absolute_error: 0.2040\n",
            "Epoch 86/100\n",
            "37218/37218 [==============================] - 3s 83us/sample - loss: 0.0675 - mean_absolute_error: 0.1870 - val_loss: 0.0704 - val_mean_absolute_error: 0.1918\n",
            "Epoch 87/100\n",
            "37218/37218 [==============================] - 3s 80us/sample - loss: 0.0675 - mean_absolute_error: 0.1868 - val_loss: 0.0813 - val_mean_absolute_error: 0.2082\n",
            "Epoch 88/100\n",
            "37218/37218 [==============================] - 3s 78us/sample - loss: 0.0675 - mean_absolute_error: 0.1869 - val_loss: 0.0763 - val_mean_absolute_error: 0.1957\n",
            "Epoch 89/100\n",
            "37218/37218 [==============================] - 3s 73us/sample - loss: 0.0671 - mean_absolute_error: 0.1863 - val_loss: 0.0914 - val_mean_absolute_error: 0.2178\n",
            "Epoch 90/100\n",
            "37218/37218 [==============================] - 3s 73us/sample - loss: 0.0673 - mean_absolute_error: 0.1863 - val_loss: 0.0835 - val_mean_absolute_error: 0.2080\n",
            "Epoch 91/100\n",
            "37218/37218 [==============================] - 3s 72us/sample - loss: 0.0673 - mean_absolute_error: 0.1866 - val_loss: 0.0776 - val_mean_absolute_error: 0.2003\n",
            "Epoch 92/100\n",
            "37218/37218 [==============================] - 3s 73us/sample - loss: 0.0670 - mean_absolute_error: 0.1863 - val_loss: 0.0729 - val_mean_absolute_error: 0.1935\n",
            "Epoch 93/100\n",
            "37218/37218 [==============================] - 3s 73us/sample - loss: 0.0672 - mean_absolute_error: 0.1865 - val_loss: 0.0750 - val_mean_absolute_error: 0.1933\n",
            "Epoch 94/100\n",
            "37218/37218 [==============================] - 3s 72us/sample - loss: 0.0668 - mean_absolute_error: 0.1862 - val_loss: 0.0782 - val_mean_absolute_error: 0.2070\n",
            "Epoch 95/100\n"
          ],
          "name": "stdout"
        },
        {
          "output_type": "stream",
          "text": [
            "37218/37218 [==============================] - 3s 72us/sample - loss: 0.0671 - mean_absolute_error: 0.1864 - val_loss: 0.0952 - val_mean_absolute_error: 0.2284\n",
            "Epoch 96/100\n",
            "37218/37218 [==============================] - 3s 72us/sample - loss: 0.0671 - mean_absolute_error: 0.1861 - val_loss: 0.0900 - val_mean_absolute_error: 0.2191\n",
            "Epoch 97/100\n",
            "37218/37218 [==============================] - 3s 72us/sample - loss: 0.0668 - mean_absolute_error: 0.1857 - val_loss: 0.0992 - val_mean_absolute_error: 0.2266\n",
            "Epoch 98/100\n",
            "37218/37218 [==============================] - 3s 71us/sample - loss: 0.0668 - mean_absolute_error: 0.1858 - val_loss: 0.0737 - val_mean_absolute_error: 0.1940\n",
            "Epoch 99/100\n",
            "37218/37218 [==============================] - 3s 71us/sample - loss: 0.0668 - mean_absolute_error: 0.1859 - val_loss: 0.0797 - val_mean_absolute_error: 0.2052\n",
            "Epoch 100/100\n",
            "37218/37218 [==============================] - 3s 72us/sample - loss: 0.0663 - mean_absolute_error: 0.1852 - val_loss: 0.0740 - val_mean_absolute_error: 0.1906\n"
          ],
          "name": "stdout"
        }
      ]
    },
    {
      "cell_type": "code",
      "metadata": {
        "id": "2r0ORJae9BFx",
        "colab_type": "code",
        "outputId": "ab5061ba-844c-422b-c844-ce8ea595eda3",
        "colab": {}
      },
      "source": [
        "# plot a graph to show how the means absolute error improves during the training process\n",
        "import matplotlib.pyplot as plt\n",
        "history_dict = history.history\n",
        "\n",
        "x = range(1, EPOCHS+1)\n",
        "\n",
        "plt.plot(x, history_dict['mean_absolute_error'], 'r', label='Mean Absolute Error')\n",
        "plt.plot(x, history_dict['val_mean_absolute_error'], 'b', label='Validation Mean Absolute Error')\n",
        "plt.title('Training and Validation MAE')\n",
        "plt.xlabel('Epochs')\n",
        "plt.ylabel('Loss/Error')\n",
        "plt.legend()"
      ],
      "execution_count": 0,
      "outputs": [
        {
          "output_type": "execute_result",
          "data": {
            "text/plain": [
              "<matplotlib.legend.Legend at 0x1a4e8da710>"
            ]
          },
          "metadata": {
            "tags": []
          },
          "execution_count": 52
        },
        {
          "output_type": "display_data",
          "data": {
            "image/png": "[encoded data removed]",
            "text/plain": [
              "<Figure size 432x288 with 1 Axes>"
            ]
          },
          "metadata": {
            "tags": [],
            "needs_background": "light"
          }
        }
      ]
    },
    {
      "cell_type": "markdown",
      "metadata": {
        "id": "j4KPt_yk9BFz",
        "colab_type": "text"
      },
      "source": [
        "As seen from the graph, the MAE has reduced to 0.2196, which is nice.\n",
        "\n",
        "\n",
        "Still wanted to try other optimizer like 'adam' to see if MAE will become even less.\n",
        "\n",
        "\n",
        "## Adam optimiser"
      ]
    },
    {
      "cell_type": "code",
      "metadata": {
        "id": "wn2rHwpd9BFz",
        "colab_type": "code",
        "outputId": "3382ecb2-63c8-4b63-be93-23a8c9b73ecd",
        "colab": {}
      },
      "source": [
        "# Created another model\n",
        "model_adam = models.Sequential()\n",
        "model_adam.add(layers.Dense(64, name=\"hidden1\", input_shape=(72,), activation=\"relu\"))\n",
        "model_adam.add(layers.Dense(64, name=\"hidden2\", activation=\"relu\", ))\n",
        "model_adam.add(layers.Dense(1, name=\"output\"))\n",
        "print(model_adam.summary())"
      ],
      "execution_count": 0,
      "outputs": [
        {
          "output_type": "stream",
          "text": [
            "Model: \"sequential_4\"\n",
            "_________________________________________________________________\n",
            "Layer (type)                 Output Shape              Param #   \n",
            "=================================================================\n",
            "hidden1 (Dense)              (None, 64)                4672      \n",
            "_________________________________________________________________\n",
            "hidden2 (Dense)              (None, 64)                4160      \n",
            "_________________________________________________________________\n",
            "output (Dense)               (None, 1)                 65        \n",
            "=================================================================\n",
            "Total params: 8,897\n",
            "Trainable params: 8,897\n",
            "Non-trainable params: 0\n",
            "_________________________________________________________________\n",
            "None\n"
          ],
          "name": "stdout"
        }
      ]
    },
    {
      "cell_type": "code",
      "metadata": {
        "id": "ZfgN0Eie9BF1",
        "colab_type": "code",
        "colab": {}
      },
      "source": [
        "# Compiled the model with adam optimizer\n",
        "model_adam.compile(optimizer='adam', loss='mse', metrics=['mae'])"
      ],
      "execution_count": 0,
      "outputs": []
    },
    {
      "cell_type": "code",
      "metadata": {
        "id": "GjbCaCz19BF3",
        "colab_type": "code",
        "outputId": "44741354-f894-4eca-debc-1a65705b3068",
        "colab": {}
      },
      "source": [
        "# Fit the model with standardised inputs\n",
        "EPOCHS=10\n",
        "history = model_adam.fit(train_x, train_y, validation_split=0.2, epochs=EPOCHS, batch_size=32)"
      ],
      "execution_count": 0,
      "outputs": [
        {
          "output_type": "stream",
          "text": [
            "Train on 37218 samples, validate on 9305 samples\n",
            "Epoch 1/10\n",
            "37218/37218 [==============================] - 3s 92us/sample - loss: 0.4303 - mean_absolute_error: 0.4127 - val_loss: 0.1988 - val_mean_absolute_error: 0.3416\n",
            "Epoch 2/10\n",
            "37218/37218 [==============================] - 3s 69us/sample - loss: 0.1290 - mean_absolute_error: 0.2729 - val_loss: 0.1722 - val_mean_absolute_error: 0.3226\n",
            "Epoch 3/10\n",
            "37218/37218 [==============================] - 3s 71us/sample - loss: 0.1211 - mean_absolute_error: 0.2634 - val_loss: 0.1193 - val_mean_absolute_error: 0.2518\n",
            "Epoch 4/10\n",
            "37218/37218 [==============================] - 3s 70us/sample - loss: 0.1152 - mean_absolute_error: 0.2572 - val_loss: 0.1280 - val_mean_absolute_error: 0.2579\n",
            "Epoch 5/10\n",
            "37218/37218 [==============================] - 3s 73us/sample - loss: 0.1070 - mean_absolute_error: 0.2444 - val_loss: 0.1086 - val_mean_absolute_error: 0.2396\n",
            "Epoch 6/10\n",
            "37218/37218 [==============================] - 3s 73us/sample - loss: 0.1057 - mean_absolute_error: 0.2425 - val_loss: 0.0992 - val_mean_absolute_error: 0.2315\n",
            "Epoch 7/10\n",
            "37218/37218 [==============================] - 3s 72us/sample - loss: 0.1046 - mean_absolute_error: 0.2412 - val_loss: 0.1122 - val_mean_absolute_error: 0.2603\n",
            "Epoch 8/10\n",
            "37218/37218 [==============================] - 3s 72us/sample - loss: 0.1019 - mean_absolute_error: 0.2369 - val_loss: 0.0943 - val_mean_absolute_error: 0.2254\n",
            "Epoch 9/10\n",
            "37218/37218 [==============================] - 3s 71us/sample - loss: 0.0976 - mean_absolute_error: 0.2318 - val_loss: 0.0944 - val_mean_absolute_error: 0.2281\n",
            "Epoch 10/10\n",
            "37218/37218 [==============================] - 3s 70us/sample - loss: 0.0958 - mean_absolute_error: 0.2289 - val_loss: 0.1003 - val_mean_absolute_error: 0.2278\n"
          ],
          "name": "stdout"
        }
      ]
    },
    {
      "cell_type": "code",
      "metadata": {
        "id": "oxDgwSKP9BF5",
        "colab_type": "code",
        "outputId": "0cf39de1-3399-4e90-8c44-82ceb31ed25e",
        "colab": {}
      },
      "source": [
        "# plot a graph to show how the means absolute error improves during the training process\n",
        "import matplotlib.pyplot as plt\n",
        "history_dict = history.history\n",
        "\n",
        "x = range(1, EPOCHS+1)\n",
        "\n",
        "plt.plot(x, history_dict['mean_absolute_error'], 'r', label='Mean Absolute Error')\n",
        "plt.plot(x, history_dict['val_mean_absolute_error'], 'b', label='Validation Mean Absolute Error')\n",
        "plt.title('Training and Validation MAE')\n",
        "plt.xlabel('Epochs')\n",
        "plt.ylabel('Loss/Error')\n",
        "plt.legend()"
      ],
      "execution_count": 0,
      "outputs": [
        {
          "output_type": "execute_result",
          "data": {
            "text/plain": [
              "<matplotlib.legend.Legend at 0x1a4e51b9d0>"
            ]
          },
          "metadata": {
            "tags": []
          },
          "execution_count": 44
        },
        {
          "output_type": "display_data",
          "data": {
            "image/png": "[encoded data removed]",
            "text/plain": [
              "<Figure size 432x288 with 1 Axes>"
            ]
          },
          "metadata": {
            "tags": [],
            "needs_background": "light"
          }
        }
      ]
    },
    {
      "cell_type": "markdown",
      "metadata": {
        "id": "tcsqtVRg9BF7",
        "colab_type": "text"
      },
      "source": [
        "With Adam optimizer, there isn't much difference in the MAE. The error is around 0.2289\n"
      ]
    },
    {
      "cell_type": "markdown",
      "metadata": {
        "id": "Jsww8b2g9BF7",
        "colab_type": "text"
      },
      "source": [
        "# Increasing number of input features\n",
        "\n",
        "Earlier, I excluded 2 input features, **'block'** and **'street_name'**. Since the training error is still more than validation error, I am going to try with all the input features in the dataset."
      ]
    },
    {
      "cell_type": "code",
      "metadata": {
        "id": "UbW-Gm8n9BF8",
        "colab_type": "code",
        "outputId": "baafee3e-17d5-4981-bf56-84abdf5a374f",
        "colab": {}
      },
      "source": [
        "#one-hot encodin the 'block'\n",
        "block_one_hot = pd.get_dummies(data['block'],prefix='block')\n",
        "#one-hot encodin the 'streetname'\n",
        "street_name_one_hot = pd.get_dummies(data['street_name'],prefix='town')\n",
        "\n",
        "\n",
        "data_oh = pd.concat([sale_year, town_one_hot, flat_type_one_hot, block_one_hot, street_name_one_hot, storey_range_one_hot, floor_area_standardized, flat_model_one_hot, remaining_lease_yrs], axis=1, sort=False)\n",
        "\n",
        "data_oh.shape"
      ],
      "execution_count": 0,
      "outputs": [
        {
          "output_type": "execute_result",
          "data": {
            "text/plain": [
              "(58154, 2953)"
            ]
          },
          "metadata": {
            "tags": []
          },
          "execution_count": 24
        }
      ]
    },
    {
      "cell_type": "code",
      "metadata": {
        "id": "y3K_aUxi9BF9",
        "colab_type": "code",
        "outputId": "1a7889bf-9944-452b-a7b7-798f5e99f591",
        "colab": {}
      },
      "source": [
        "data_oh.info()"
      ],
      "execution_count": 0,
      "outputs": [
        {
          "output_type": "stream",
          "text": [
            "<class 'pandas.core.frame.DataFrame'>\n",
            "RangeIndex: 58154 entries, 0 to 58153\n",
            "Columns: 2953 entries, month to remaining_lease\n",
            "dtypes: float64(1), int64(2), uint8(2950)\n",
            "memory usage: 164.9 MB\n"
          ],
          "name": "stdout"
        }
      ]
    },
    {
      "cell_type": "code",
      "metadata": {
        "id": "llCSLWce9BF-",
        "colab_type": "code",
        "outputId": "1dc05c90-d6cb-4dcd-e21d-e3aab60ff247",
        "colab": {}
      },
      "source": [
        "data_oh.head(1)"
      ],
      "execution_count": 0,
      "outputs": [
        {
          "output_type": "execute_result",
          "data": {
            "text/html": [
              "<div>\n",
              "<style scoped>\n",
              "    .dataframe tbody tr th:only-of-type {\n",
              "        vertical-align: middle;\n",
              "    }\n",
              "\n",
              "    .dataframe tbody tr th {\n",
              "        vertical-align: top;\n",
              "    }\n",
              "\n",
              "    .dataframe thead th {\n",
              "        text-align: right;\n",
              "    }\n",
              "</style>\n",
              "<table border=\"1\" class=\"dataframe\">\n",
              "  <thead>\n",
              "    <tr style=\"text-align: right;\">\n",
              "      <th></th>\n",
              "      <th>month</th>\n",
              "      <th>town_ANG MO KIO</th>\n",
              "      <th>town_BEDOK</th>\n",
              "      <th>town_BISHAN</th>\n",
              "      <th>town_BUKIT BATOK</th>\n",
              "      <th>town_BUKIT MERAH</th>\n",
              "      <th>town_BUKIT PANJANG</th>\n",
              "      <th>town_BUKIT TIMAH</th>\n",
              "      <th>town_CENTRAL AREA</th>\n",
              "      <th>town_CHOA CHU KANG</th>\n",
              "      <th>...</th>\n",
              "      <th>flat_model_New Generation</th>\n",
              "      <th>flat_model_Premium Apartment</th>\n",
              "      <th>flat_model_Premium Apartment Loft</th>\n",
              "      <th>flat_model_Premium Maisonette</th>\n",
              "      <th>flat_model_Simplified</th>\n",
              "      <th>flat_model_Standard</th>\n",
              "      <th>flat_model_Terrace</th>\n",
              "      <th>flat_model_Type S1</th>\n",
              "      <th>flat_model_Type S2</th>\n",
              "      <th>remaining_lease</th>\n",
              "    </tr>\n",
              "  </thead>\n",
              "  <tbody>\n",
              "    <tr>\n",
              "      <th>0</th>\n",
              "      <td>0</td>\n",
              "      <td>1</td>\n",
              "      <td>0</td>\n",
              "      <td>0</td>\n",
              "      <td>0</td>\n",
              "      <td>0</td>\n",
              "      <td>0</td>\n",
              "      <td>0</td>\n",
              "      <td>0</td>\n",
              "      <td>0</td>\n",
              "      <td>...</td>\n",
              "      <td>0</td>\n",
              "      <td>0</td>\n",
              "      <td>0</td>\n",
              "      <td>0</td>\n",
              "      <td>0</td>\n",
              "      <td>0</td>\n",
              "      <td>0</td>\n",
              "      <td>0</td>\n",
              "      <td>0</td>\n",
              "      <td>61</td>\n",
              "    </tr>\n",
              "  </tbody>\n",
              "</table>\n",
              "<p>1 rows × 2953 columns</p>\n",
              "</div>"
            ],
            "text/plain": [
              "   month  town_ANG MO KIO  town_BEDOK  town_BISHAN  town_BUKIT BATOK  \\\n",
              "0      0                1           0            0                 0   \n",
              "\n",
              "   town_BUKIT MERAH  town_BUKIT PANJANG  town_BUKIT TIMAH  town_CENTRAL AREA  \\\n",
              "0                 0                   0                 0                  0   \n",
              "\n",
              "   town_CHOA CHU KANG  ...  flat_model_New Generation  \\\n",
              "0                   0  ...                          0   \n",
              "\n",
              "   flat_model_Premium Apartment  flat_model_Premium Apartment Loft  \\\n",
              "0                             0                                  0   \n",
              "\n",
              "   flat_model_Premium Maisonette  flat_model_Simplified  flat_model_Standard  \\\n",
              "0                              0                      0                    0   \n",
              "\n",
              "   flat_model_Terrace  flat_model_Type S1  flat_model_Type S2  remaining_lease  \n",
              "0                   0                   0                   0               61  \n",
              "\n",
              "[1 rows x 2953 columns]"
            ]
          },
          "metadata": {
            "tags": []
          },
          "execution_count": 26
        }
      ]
    },
    {
      "cell_type": "code",
      "metadata": {
        "id": "HUfXjgDw9BGA",
        "colab_type": "code",
        "outputId": "6e8db043-4d63-406f-8505-863e141b6924",
        "colab": {}
      },
      "source": [
        "# Split dataset into random train and test subsets\n",
        "train_x, test_x, train_y, test_y = train_test_split(data_oh.values, resale_price_standardized.astype(np.float64), test_size = 0.2, random_state = 0)\n",
        "\n",
        "# print the shape of the train & test subsets\n",
        "print(\"train_x: \",train_x.shape)\n",
        "print(\"test_x: \",test_x.shape)\n",
        "print(\"train_y: \",train_y.shape)\n",
        "print(\"test_y: \",test_y.shape)"
      ],
      "execution_count": 0,
      "outputs": [
        {
          "output_type": "stream",
          "text": [
            "train_x:  (46523, 2953)\n",
            "test_x:  (11631, 2953)\n",
            "train_y:  (46523,)\n",
            "test_y:  (11631,)\n"
          ],
          "name": "stdout"
        }
      ]
    },
    {
      "cell_type": "markdown",
      "metadata": {
        "id": "V9Jfwpmz9BGB",
        "colab_type": "text"
      },
      "source": [
        "Since there are **2953 input features**, the input shape for the first hidden layer will be 2953.\n",
        "\n",
        "**Also tried to keep the number of neurons as multiples of 2.** Hence chose **2048, 1024, 512, 256, 128, 64, 32, 16** for the hidden layers."
      ]
    },
    {
      "cell_type": "code",
      "metadata": {
        "id": "ok28YNGW9BGB",
        "colab_type": "code",
        "outputId": "04a32115-e758-409c-c69f-561aa0df2239",
        "colab": {}
      },
      "source": [
        "# Created a model \n",
        "model = models.Sequential()\n",
        "model.add(layers.Dense(2953, name=\"hidden1\", input_shape=(2953,), activation=\"relu\"))\n",
        "model.add(layers.Dense(2048, name=\"hidden2\", activation=\"relu\", ))\n",
        "model.add(layers.Dense(1024, name=\"hidden3\", activation=\"relu\", ))\n",
        "model.add(layers.Dense(512, name=\"hidden4\", activation=\"relu\", ))\n",
        "model.add(layers.Dense(256, name=\"hidden5\", activation=\"relu\", ))\n",
        "model.add(layers.Dense(128, name=\"hidden6\", activation=\"relu\", ))\n",
        "model.add(layers.Dense(64, name=\"hidden7\", activation=\"relu\", ))\n",
        "model.add(layers.Dense(32, name=\"hidden8\", activation=\"relu\", ))\n",
        "model.add(layers.Dense(16, name=\"hidden9\", activation=\"relu\", ))\n",
        "model.add(layers.Dense(1, name=\"output\"))\n",
        "print(model.summary())"
      ],
      "execution_count": 0,
      "outputs": [
        {
          "output_type": "stream",
          "text": [
            "Model: \"sequential_4\"\n",
            "_________________________________________________________________\n",
            "Layer (type)                 Output Shape              Param #   \n",
            "=================================================================\n",
            "hidden1 (Dense)              (None, 2953)              8723162   \n",
            "_________________________________________________________________\n",
            "hidden2 (Dense)              (None, 2048)              6049792   \n",
            "_________________________________________________________________\n",
            "hidden3 (Dense)              (None, 1024)              2098176   \n",
            "_________________________________________________________________\n",
            "hidden4 (Dense)              (None, 512)               524800    \n",
            "_________________________________________________________________\n",
            "hidden5 (Dense)              (None, 256)               131328    \n",
            "_________________________________________________________________\n",
            "hidden6 (Dense)              (None, 128)               32896     \n",
            "_________________________________________________________________\n",
            "hidden7 (Dense)              (None, 64)                8256      \n",
            "_________________________________________________________________\n",
            "hidden8 (Dense)              (None, 32)                2080      \n",
            "_________________________________________________________________\n",
            "hidden9 (Dense)              (None, 16)                528       \n",
            "_________________________________________________________________\n",
            "output (Dense)               (None, 1)                 17        \n",
            "=================================================================\n",
            "Total params: 17,571,035\n",
            "Trainable params: 17,571,035\n",
            "Non-trainable params: 0\n",
            "_________________________________________________________________\n",
            "None\n"
          ],
          "name": "stdout"
        }
      ]
    },
    {
      "cell_type": "markdown",
      "metadata": {
        "id": "yUVjVpwX9BGC",
        "colab_type": "text"
      },
      "source": [
        "The model has an input shape of (2953,) because there are 2953 features. RELU is used as our activation function for our hidden layer.\n",
        "\n",
        "As can be seen from the summary, there are **9 hidden layers and 1 output layer**. \n",
        "\n",
        "There are a 8723162 weights for the first layer, 6049792 weights in the second layer, 2098176 weights in third layer, 524800 weights in fourth layer, 131328 weights in fifth layer, 32896 weights in sixth layer, 8256 weights in seventh layer, 2080 weights in eight layer, 528 weights in ninth layer and 17 weights in the final output layers making a **total of 17,571,035 weights** (parameters)."
      ]
    },
    {
      "cell_type": "code",
      "metadata": {
        "id": "Vq82midR9BGD",
        "colab_type": "code",
        "outputId": "b9f23152-d98c-42ee-cd3d-346689a45cc5",
        "colab": {
          "base_uri": "https://localhost:8080/",
          "height": 164
        }
      },
      "source": [
        "# compile model\n",
        "model.compile(optimizer='rmsprop', loss='mse', metrics=['mae'])"
      ],
      "execution_count": 0,
      "outputs": [
        {
          "output_type": "error",
          "ename": "NameError",
          "evalue": "ignored",
          "traceback": [
            "\u001b[0;31m---------------------------------------------------------------------------\u001b[0m",
            "\u001b[0;31mNameError\u001b[0m                                 Traceback (most recent call last)",
            "\u001b[0;32m<ipython-input-1-6243e74e99c7>\u001b[0m in \u001b[0;36m<module>\u001b[0;34m()\u001b[0m\n\u001b[0;32m----> 1\u001b[0;31m \u001b[0mmodel\u001b[0m\u001b[0;34m.\u001b[0m\u001b[0mcompile\u001b[0m\u001b[0;34m(\u001b[0m\u001b[0moptimizer\u001b[0m\u001b[0;34m=\u001b[0m\u001b[0;34m'rmsprop'\u001b[0m\u001b[0;34m,\u001b[0m \u001b[0mloss\u001b[0m\u001b[0;34m=\u001b[0m\u001b[0;34m'mse'\u001b[0m\u001b[0;34m,\u001b[0m \u001b[0mmetrics\u001b[0m\u001b[0;34m=\u001b[0m\u001b[0;34m[\u001b[0m\u001b[0;34m'mean_absolute_error'\u001b[0m\u001b[0;34m]\u001b[0m\u001b[0;34m)\u001b[0m\u001b[0;34m\u001b[0m\u001b[0;34m\u001b[0m\u001b[0m\n\u001b[0m",
            "\u001b[0;31mNameError\u001b[0m: name 'model' is not defined"
          ]
        }
      ]
    },
    {
      "cell_type": "code",
      "metadata": {
        "id": "FGw93eAP9BGE",
        "colab_type": "code",
        "outputId": "130929f6-3853-42a2-cdba-d1efd449ea1d",
        "colab": {}
      },
      "source": [
        "# Fit the model with standardized inputs\n",
        "EPOCHS=10\n",
        "history = model.fit(train_x, train_y, validation_split=0.2, epochs=EPOCHS, batch_size=32)"
      ],
      "execution_count": 0,
      "outputs": [
        {
          "output_type": "stream",
          "text": [
            "Train on 37218 samples, validate on 9305 samples\n",
            "Epoch 1/10\n",
            "37218/37218 [==============================] - 253s 7ms/sample - loss: 0.5759 - mean_absolute_error: 0.4295 - val_loss: 0.1319 - val_mean_absolute_error: 0.3062\n",
            "Epoch 2/10\n",
            "37218/37218 [==============================] - 294s 8ms/sample - loss: 0.0968 - mean_absolute_error: 0.2240 - val_loss: 0.1241 - val_mean_absolute_error: 0.3048\n",
            "Epoch 3/10\n",
            "37218/37218 [==============================] - 270s 7ms/sample - loss: 0.0713 - mean_absolute_error: 0.1932 - val_loss: 0.0692 - val_mean_absolute_error: 0.1895\n",
            "Epoch 4/10\n",
            "37218/37218 [==============================] - 258s 7ms/sample - loss: 0.0609 - mean_absolute_error: 0.1775 - val_loss: 0.0963 - val_mean_absolute_error: 0.2209\n",
            "Epoch 5/10\n",
            "37218/37218 [==============================] - 266s 7ms/sample - loss: 0.0534 - mean_absolute_error: 0.1656 - val_loss: 0.1058 - val_mean_absolute_error: 0.2808\n",
            "Epoch 6/10\n",
            "37218/37218 [==============================] - 259s 7ms/sample - loss: 0.0487 - mean_absolute_error: 0.1588 - val_loss: 0.0457 - val_mean_absolute_error: 0.1645\n",
            "Epoch 7/10\n",
            "37218/37218 [==============================] - 270s 7ms/sample - loss: 0.0445 - mean_absolute_error: 0.1520 - val_loss: 0.0415 - val_mean_absolute_error: 0.1490\n",
            "Epoch 8/10\n",
            "37218/37218 [==============================] - 280s 8ms/sample - loss: 0.0418 - mean_absolute_error: 0.1477 - val_loss: 0.0506 - val_mean_absolute_error: 0.1726\n",
            "Epoch 9/10\n",
            "37218/37218 [==============================] - 283s 8ms/sample - loss: 0.0400 - mean_absolute_error: 0.1434 - val_loss: 0.0439 - val_mean_absolute_error: 0.1567\n",
            "Epoch 10/10\n",
            "37218/37218 [==============================] - 289s 8ms/sample - loss: 0.0374 - mean_absolute_error: 0.1393 - val_loss: 0.0604 - val_mean_absolute_error: 0.1999\n"
          ],
          "name": "stdout"
        }
      ]
    },
    {
      "cell_type": "code",
      "metadata": {
        "id": "FpRP7dPf9BGG",
        "colab_type": "code",
        "outputId": "d58a2aab-4aa1-4b77-a525-fff76e465920",
        "colab": {}
      },
      "source": [
        "# plot a graph to show how the means absolute error improves during the training process\n",
        "import matplotlib.pyplot as plt\n",
        "history_dict = history.history\n",
        "\n",
        "x = range(1, EPOCHS+1)\n",
        "\n",
        "plt.plot(x, history_dict['mean_absolute_error'], 'r', label='Mean Absolute Error')\n",
        "plt.plot(x, history_dict['val_mean_absolute_error'], 'b', label='Validation Mean Absolute Error')\n",
        "plt.title('Training and Validation MAE')\n",
        "plt.xlabel('Epochs')\n",
        "plt.ylabel('Loss/Error')\n",
        "plt.legend()"
      ],
      "execution_count": 0,
      "outputs": [
        {
          "output_type": "execute_result",
          "data": {
            "text/plain": [
              "<matplotlib.legend.Legend at 0x1a4f384810>"
            ]
          },
          "metadata": {
            "tags": []
          },
          "execution_count": 35
        },
        {
          "output_type": "display_data",
          "data": {
            "image/png": "[encoded data removed]",
            "text/plain": [
              "<Figure size 432x288 with 1 Axes>"
            ]
          },
          "metadata": {
            "tags": [],
            "needs_background": "light"
          }
        }
      ]
    },
    {
      "cell_type": "markdown",
      "metadata": {
        "id": "GOkw8iWc9BGH",
        "colab_type": "text"
      },
      "source": [
        "As you can see from the graph above, the MAE is reduced to 0.1393\n",
        "\n",
        "# Evaluated for test data"
      ]
    },
    {
      "cell_type": "code",
      "metadata": {
        "id": "cKSvq5mC9BGH",
        "colab_type": "code",
        "outputId": "391779d2-ec01-4b9d-e439-ce13b7e08ee3",
        "colab": {}
      },
      "source": [
        "# Evaluate the model with 'rmsprop' optimizer, as it had lower val_mae\n",
        "test_result = model.evaluate(test_x, test_y, batch_size=128)\n",
        "print(test_result)"
      ],
      "execution_count": 0,
      "outputs": [
        {
          "output_type": "stream",
          "text": [
            "11631/11631 [==============================] - 2s 182us/sample - loss: 0.0602 - mean_absolute_error: 0.2011\n",
            "[0.06017671791511045, 0.20111503]\n"
          ],
          "name": "stdout"
        }
      ]
    },
    {
      "cell_type": "markdown",
      "metadata": {
        "id": "yvwju23e9BGJ",
        "colab_type": "text"
      },
      "source": [
        "## Conclusion\n",
        "* From the graph above, one can see that MAE has **reduced to 0.1393** from 0.2196, during training.\n",
        "* Standardising the input values, adding more features and increasing depth and width of the hidden layers helped to reduce Mean Absolute Error and overcome 'under-fitting'.\n",
        "* The above model training took a long time and there are a total of 17,571,035 weights in it. I can understand why convolution networks got invented later. If convnet is used, definitely the number of filters will be much lessers than the total number of parameters used here(17,571,035).\n",
        "* Also since there was no problem of overfitting, I didn't have to use regularization or use dropout layers."
      ]
    },
    {
      "cell_type": "code",
      "metadata": {
        "id": "bj3kdteFnSUn",
        "colab_type": "code",
        "colab": {}
      },
      "source": [
        "\n"
      ],
      "execution_count": 0,
      "outputs": []
    }
  ]
}